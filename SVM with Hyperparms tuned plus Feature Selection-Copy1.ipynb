{
 "cells": [
  {
   "cell_type": "code",
   "execution_count": 10,
   "metadata": {},
   "outputs": [
    {
     "name": "stdout",
     "output_type": "stream",
     "text": [
      "Requirement already up-to-date: sklearn in c:\\users\\test\\anaconda3\\envs\\pythondata\\lib\\site-packages (0.0)\n",
      "Requirement already satisfied, skipping upgrade: scikit-learn in c:\\users\\test\\anaconda3\\envs\\pythondata\\lib\\site-packages (from sklearn) (0.22.2.post1)\n",
      "Requirement already satisfied, skipping upgrade: joblib>=0.11 in c:\\users\\test\\anaconda3\\envs\\pythondata\\lib\\site-packages (from scikit-learn->sklearn) (0.14.1)\n",
      "Requirement already satisfied, skipping upgrade: scipy>=0.17.0 in c:\\users\\test\\anaconda3\\envs\\pythondata\\lib\\site-packages (from scikit-learn->sklearn) (1.4.1)\n",
      "Requirement already satisfied, skipping upgrade: numpy>=1.11.0 in c:\\users\\test\\anaconda3\\envs\\pythondata\\lib\\site-packages (from scikit-learn->sklearn) (1.18.4)\n"
     ]
    }
   ],
   "source": [
    "# Update sklearn to prevent version mismatches\n",
    "!pip install sklearn --upgrade"
   ]
  },
  {
   "cell_type": "code",
   "execution_count": 11,
   "metadata": {},
   "outputs": [
    {
     "name": "stdout",
     "output_type": "stream",
     "text": [
      "Requirement already satisfied: joblib in c:\\users\\test\\anaconda3\\envs\\pythondata\\lib\\site-packages (0.14.1)\n"
     ]
    }
   ],
   "source": [
    "# install joblib. This will be used to save your model. \n",
    "# Restart your kernel after installing \n",
    "!pip install joblib"
   ]
  },
  {
   "cell_type": "code",
   "execution_count": 12,
   "metadata": {},
   "outputs": [],
   "source": [
    "import pandas as pd"
   ]
  },
  {
   "cell_type": "markdown",
   "metadata": {},
   "source": [
    " ## Read the CSV and Perform Basic Data Cleaning     "
   ]
  },
  {
   "cell_type": "code",
   "execution_count": 13,
   "metadata": {},
   "outputs": [
    {
     "data": {
      "text/html": [
       "<div>\n",
       "<style scoped>\n",
       "    .dataframe tbody tr th:only-of-type {\n",
       "        vertical-align: middle;\n",
       "    }\n",
       "\n",
       "    .dataframe tbody tr th {\n",
       "        vertical-align: top;\n",
       "    }\n",
       "\n",
       "    .dataframe thead th {\n",
       "        text-align: right;\n",
       "    }\n",
       "</style>\n",
       "<table border=\"1\" class=\"dataframe\">\n",
       "  <thead>\n",
       "    <tr style=\"text-align: right;\">\n",
       "      <th></th>\n",
       "      <th>koi_disposition</th>\n",
       "      <th>koi_fpflag_nt</th>\n",
       "      <th>koi_fpflag_ss</th>\n",
       "      <th>koi_fpflag_co</th>\n",
       "      <th>koi_fpflag_ec</th>\n",
       "      <th>koi_period</th>\n",
       "      <th>koi_period_err1</th>\n",
       "      <th>koi_period_err2</th>\n",
       "      <th>koi_time0bk</th>\n",
       "      <th>koi_time0bk_err1</th>\n",
       "      <th>...</th>\n",
       "      <th>koi_steff_err2</th>\n",
       "      <th>koi_slogg</th>\n",
       "      <th>koi_slogg_err1</th>\n",
       "      <th>koi_slogg_err2</th>\n",
       "      <th>koi_srad</th>\n",
       "      <th>koi_srad_err1</th>\n",
       "      <th>koi_srad_err2</th>\n",
       "      <th>ra</th>\n",
       "      <th>dec</th>\n",
       "      <th>koi_kepmag</th>\n",
       "    </tr>\n",
       "  </thead>\n",
       "  <tbody>\n",
       "    <tr>\n",
       "      <td>0</td>\n",
       "      <td>CONFIRMED</td>\n",
       "      <td>0</td>\n",
       "      <td>0</td>\n",
       "      <td>0</td>\n",
       "      <td>0</td>\n",
       "      <td>54.418383</td>\n",
       "      <td>2.479000e-04</td>\n",
       "      <td>-2.479000e-04</td>\n",
       "      <td>162.513840</td>\n",
       "      <td>0.003520</td>\n",
       "      <td>...</td>\n",
       "      <td>-81</td>\n",
       "      <td>4.467</td>\n",
       "      <td>0.064</td>\n",
       "      <td>-0.096</td>\n",
       "      <td>0.927</td>\n",
       "      <td>0.105</td>\n",
       "      <td>-0.061</td>\n",
       "      <td>291.93423</td>\n",
       "      <td>48.141651</td>\n",
       "      <td>15.347</td>\n",
       "    </tr>\n",
       "    <tr>\n",
       "      <td>1</td>\n",
       "      <td>FALSE POSITIVE</td>\n",
       "      <td>0</td>\n",
       "      <td>1</td>\n",
       "      <td>0</td>\n",
       "      <td>0</td>\n",
       "      <td>19.899140</td>\n",
       "      <td>1.490000e-05</td>\n",
       "      <td>-1.490000e-05</td>\n",
       "      <td>175.850252</td>\n",
       "      <td>0.000581</td>\n",
       "      <td>...</td>\n",
       "      <td>-176</td>\n",
       "      <td>4.544</td>\n",
       "      <td>0.044</td>\n",
       "      <td>-0.176</td>\n",
       "      <td>0.868</td>\n",
       "      <td>0.233</td>\n",
       "      <td>-0.078</td>\n",
       "      <td>297.00482</td>\n",
       "      <td>48.134129</td>\n",
       "      <td>15.436</td>\n",
       "    </tr>\n",
       "    <tr>\n",
       "      <td>2</td>\n",
       "      <td>FALSE POSITIVE</td>\n",
       "      <td>0</td>\n",
       "      <td>1</td>\n",
       "      <td>0</td>\n",
       "      <td>0</td>\n",
       "      <td>1.736952</td>\n",
       "      <td>2.630000e-07</td>\n",
       "      <td>-2.630000e-07</td>\n",
       "      <td>170.307565</td>\n",
       "      <td>0.000115</td>\n",
       "      <td>...</td>\n",
       "      <td>-174</td>\n",
       "      <td>4.564</td>\n",
       "      <td>0.053</td>\n",
       "      <td>-0.168</td>\n",
       "      <td>0.791</td>\n",
       "      <td>0.201</td>\n",
       "      <td>-0.067</td>\n",
       "      <td>285.53461</td>\n",
       "      <td>48.285210</td>\n",
       "      <td>15.597</td>\n",
       "    </tr>\n",
       "    <tr>\n",
       "      <td>3</td>\n",
       "      <td>CONFIRMED</td>\n",
       "      <td>0</td>\n",
       "      <td>0</td>\n",
       "      <td>0</td>\n",
       "      <td>0</td>\n",
       "      <td>2.525592</td>\n",
       "      <td>3.760000e-06</td>\n",
       "      <td>-3.760000e-06</td>\n",
       "      <td>171.595550</td>\n",
       "      <td>0.001130</td>\n",
       "      <td>...</td>\n",
       "      <td>-211</td>\n",
       "      <td>4.438</td>\n",
       "      <td>0.070</td>\n",
       "      <td>-0.210</td>\n",
       "      <td>1.046</td>\n",
       "      <td>0.334</td>\n",
       "      <td>-0.133</td>\n",
       "      <td>288.75488</td>\n",
       "      <td>48.226200</td>\n",
       "      <td>15.509</td>\n",
       "    </tr>\n",
       "    <tr>\n",
       "      <td>4</td>\n",
       "      <td>CONFIRMED</td>\n",
       "      <td>0</td>\n",
       "      <td>0</td>\n",
       "      <td>0</td>\n",
       "      <td>0</td>\n",
       "      <td>4.134435</td>\n",
       "      <td>1.050000e-05</td>\n",
       "      <td>-1.050000e-05</td>\n",
       "      <td>172.979370</td>\n",
       "      <td>0.001900</td>\n",
       "      <td>...</td>\n",
       "      <td>-232</td>\n",
       "      <td>4.486</td>\n",
       "      <td>0.054</td>\n",
       "      <td>-0.229</td>\n",
       "      <td>0.972</td>\n",
       "      <td>0.315</td>\n",
       "      <td>-0.105</td>\n",
       "      <td>296.28613</td>\n",
       "      <td>48.224670</td>\n",
       "      <td>15.714</td>\n",
       "    </tr>\n",
       "  </tbody>\n",
       "</table>\n",
       "<p>5 rows × 41 columns</p>\n",
       "</div>"
      ],
      "text/plain": [
       "  koi_disposition  koi_fpflag_nt  koi_fpflag_ss  koi_fpflag_co  koi_fpflag_ec  \\\n",
       "0       CONFIRMED              0              0              0              0   \n",
       "1  FALSE POSITIVE              0              1              0              0   \n",
       "2  FALSE POSITIVE              0              1              0              0   \n",
       "3       CONFIRMED              0              0              0              0   \n",
       "4       CONFIRMED              0              0              0              0   \n",
       "\n",
       "   koi_period  koi_period_err1  koi_period_err2  koi_time0bk  \\\n",
       "0   54.418383     2.479000e-04    -2.479000e-04   162.513840   \n",
       "1   19.899140     1.490000e-05    -1.490000e-05   175.850252   \n",
       "2    1.736952     2.630000e-07    -2.630000e-07   170.307565   \n",
       "3    2.525592     3.760000e-06    -3.760000e-06   171.595550   \n",
       "4    4.134435     1.050000e-05    -1.050000e-05   172.979370   \n",
       "\n",
       "   koi_time0bk_err1  ...  koi_steff_err2  koi_slogg  koi_slogg_err1  \\\n",
       "0          0.003520  ...             -81      4.467           0.064   \n",
       "1          0.000581  ...            -176      4.544           0.044   \n",
       "2          0.000115  ...            -174      4.564           0.053   \n",
       "3          0.001130  ...            -211      4.438           0.070   \n",
       "4          0.001900  ...            -232      4.486           0.054   \n",
       "\n",
       "   koi_slogg_err2  koi_srad  koi_srad_err1  koi_srad_err2         ra  \\\n",
       "0          -0.096     0.927          0.105         -0.061  291.93423   \n",
       "1          -0.176     0.868          0.233         -0.078  297.00482   \n",
       "2          -0.168     0.791          0.201         -0.067  285.53461   \n",
       "3          -0.210     1.046          0.334         -0.133  288.75488   \n",
       "4          -0.229     0.972          0.315         -0.105  296.28613   \n",
       "\n",
       "         dec  koi_kepmag  \n",
       "0  48.141651      15.347  \n",
       "1  48.134129      15.436  \n",
       "2  48.285210      15.597  \n",
       "3  48.226200      15.509  \n",
       "4  48.224670      15.714  \n",
       "\n",
       "[5 rows x 41 columns]"
      ]
     },
     "execution_count": 13,
     "metadata": {},
     "output_type": "execute_result"
    }
   ],
   "source": [
    "df = pd.read_csv(\"exoplanet_data.csv\")\n",
    "# Drop the null columns where all values are null\n",
    "df = df.dropna(axis='columns', how='all')\n",
    "# Drop the null rows\n",
    "df = df.dropna()\n",
    "df.head()"
   ]
  },
  {
   "cell_type": "markdown",
   "metadata": {},
   "source": [
    "## Select your features (columns)     "
   ]
  },
  {
   "cell_type": "code",
   "execution_count": 14,
   "metadata": {},
   "outputs": [],
   "source": [
    "# Set features. This will also be used as your x values.\n",
    "X = df.drop(columns='koi_disposition')\n",
    "y = df['koi_disposition']"
   ]
  },
  {
   "cell_type": "code",
   "execution_count": 15,
   "metadata": {},
   "outputs": [],
   "source": [
    "from sklearn.model_selection import train_test_split\n",
    "X_train, X_test, y_train, y_test = train_test_split(X, y, random_state = 1, stratify = y)"
   ]
  },
  {
   "cell_type": "code",
   "execution_count": 18,
   "metadata": {},
   "outputs": [],
   "source": [
    "from sklearn.preprocessing import MinMaxScaler\n",
    "\n",
    "X_scaler = MinMaxScaler().fit(X_train)\n",
    "X_train_scaled = X_scaler.transform(X_train)\n",
    "X_test_scaled = X_scaler.transform(X_test)"
   ]
  },
  {
   "cell_type": "code",
   "execution_count": 19,
   "metadata": {},
   "outputs": [
    {
     "data": {
      "text/plain": [
       "SVC(C=1.0, cache_size=200, class_weight=None, coef0=0.0,\n",
       "    decision_function_shape='ovr', degree=3, gamma='auto_deprecated',\n",
       "    kernel='linear', max_iter=-1, probability=False, random_state=None,\n",
       "    shrinking=True, tol=0.001, verbose=False)"
      ]
     },
     "execution_count": 19,
     "metadata": {},
     "output_type": "execute_result"
    }
   ],
   "source": [
    "from sklearn.svm import SVC\n",
    "svm_model = SVC(kernel='linear')\n",
    "svm_model.fit(X_train_scaled, y_train)"
   ]
  },
  {
   "cell_type": "code",
   "execution_count": 23,
   "metadata": {},
   "outputs": [
    {
     "name": "stdout",
     "output_type": "stream",
     "text": [
      "Training Data Score: 0.8439824527942018\n",
      "Testing Data Score: 0.8415331807780321\n"
     ]
    }
   ],
   "source": [
    "print(f\"Training Data Score: {svm_model.score(X_train_scaled, y_train)}\")\n",
    "print(f\"Testing Data Score: {svm_model.score(X_test_scaled, y_test)}\")"
   ]
  },
  {
   "cell_type": "code",
   "execution_count": 70,
   "metadata": {},
   "outputs": [
    {
     "data": {
      "text/plain": [
       "array([[  5.61515566,  -5.61515566,   5.61728034,  -5.61728034,\n",
       "          5.53978773,  -3.64992631,   3.46519156,  -3.11686899,\n",
       "          2.74108084,   2.69297021,  -1.01015563,  -1.20150795,\n",
       "          1.20150795,  -0.83705129,  -1.60629988,   1.75572719,\n",
       "         -1.65798123,  -2.67799854,  -1.82151849,  -2.34382435],\n",
       "       [  1.57448838,  -1.57448838,   1.9356426 ,  -1.9356426 ,\n",
       "         -5.52448928,  -4.72250699,   2.73199262,   1.17394852,\n",
       "        -10.27895484,  -1.67683573,   4.82936652,  -0.42481868,\n",
       "          0.42481868,   0.12638126,  -0.33358597,  -0.13417826,\n",
       "         -5.36238592,   2.30758736,  -7.67170875,  -1.23519323],\n",
       "       [ -2.68743957,   2.68743957,  -1.20411131,   1.20411131,\n",
       "         -8.48005391,  -2.24127348,  -1.28607283,   2.94835753,\n",
       "        -10.23598088,  -4.94654307,   3.2944912 ,   0.57020544,\n",
       "         -0.57020544,   0.60506362,   0.95219057,  -1.87630182,\n",
       "         -2.31784433,   4.5469373 ,  -6.09973078,   0.49033301]])"
      ]
     },
     "execution_count": 70,
     "metadata": {},
     "output_type": "execute_result"
    }
   ],
   "source": [
    "svm_model.coef_"
   ]
  },
  {
   "cell_type": "code",
   "execution_count": 72,
   "metadata": {},
   "outputs": [
    {
     "ename": "AttributeError",
     "evalue": "'SVC' object has no attribute 'feature_importances_'",
     "output_type": "error",
     "traceback": [
      "\u001b[1;31m---------------------------------------------------------------------------\u001b[0m",
      "\u001b[1;31mAttributeError\u001b[0m                            Traceback (most recent call last)",
      "\u001b[1;32m<ipython-input-72-337b64ebb877>\u001b[0m in \u001b[0;36m<module>\u001b[1;34m\u001b[0m\n\u001b[0;32m      3\u001b[0m \u001b[1;33m\u001b[0m\u001b[0m\n\u001b[0;32m      4\u001b[0m \u001b[1;33m\u001b[0m\u001b[0m\n\u001b[1;32m----> 5\u001b[1;33m \u001b[0mimportances\u001b[0m \u001b[1;33m=\u001b[0m \u001b[0msvm_model\u001b[0m\u001b[1;33m.\u001b[0m\u001b[0mfeature_importances_\u001b[0m\u001b[1;33m\u001b[0m\u001b[1;33m\u001b[0m\u001b[0m\n\u001b[0m\u001b[0;32m      6\u001b[0m \u001b[0mimportances\u001b[0m\u001b[1;33m\u001b[0m\u001b[1;33m\u001b[0m\u001b[0m\n",
      "\u001b[1;31mAttributeError\u001b[0m: 'SVC' object has no attribute 'feature_importances_'"
     ]
    }
   ],
   "source": [
    "from matplotlib import pyplot as plt\n",
    "from sklearn import svm\n",
    "\n",
    "\n",
    "importances = svm_model.feature_importances_\n",
    "importances\n"
   ]
  },
  {
   "cell_type": "code",
   "execution_count": 68,
   "metadata": {},
   "outputs": [
    {
     "data": {
      "image/png": "[encoded data removed]",
      "text/plain": [
       "<Figure size 360x720 with 1 Axes>"
      ]
     },
     "metadata": {
      "needs_background": "light"
     },
     "output_type": "display_data"
    }
   ],
   "source": [
    "from matplotlib import pyplot as plt\n",
    "from sklearn import svm\n",
    "\n",
    "def f_importances(coef, names, top=-1):\n",
    "    imp = coef\n",
    "    imp, names = zip(*sorted(list(zip(imp, names))))\n",
    "\n",
    "    # Show all features\n",
    "    if top == -1:\n",
    "        top = len(names)\n",
    "\n",
    "    plt.barh(range(top), imp[::-1][0:top], align='center')\n",
    "    plt.yticks(range(top), names[::-1][0:top])\n",
    "    plt.rcParams['figure.figsize']=(5, 10)\n",
    "    plt.show()\n",
    "    \n",
    "feature_names = ['koi_fpflag_nt', 'koi_fpflag_ss', 'koi_fpflag_co',\n",
    "       'koi_fpflag_ec', 'koi_period', 'koi_period_err1', 'koi_period_err2',\n",
    "       'koi_time0bk', 'koi_time0bk_err1', 'koi_time0bk_err2', 'koi_impact',\n",
    "       'koi_impact_err1', 'koi_impact_err2', 'koi_duration',\n",
    "       'koi_duration_err1', 'koi_duration_err2', 'koi_depth', 'koi_depth_err1',\n",
    "       'koi_depth_err2', 'koi_prad', 'koi_prad_err1', 'koi_prad_err2',\n",
    "       'koi_teq', 'koi_insol', 'koi_insol_err1', 'koi_insol_err2',\n",
    "       'koi_model_snr', 'koi_tce_plnt_num', 'koi_steff', 'koi_steff_err1',\n",
    "       'koi_steff_err2', 'koi_slogg', 'koi_slogg_err1', 'koi_slogg_err2',\n",
    "       'koi_srad', 'koi_srad_err1', 'koi_srad_err2', 'ra', 'dec',\n",
    "       'koi_kepmag'] \n",
    "\n",
    "svm_model.fit(X_train_scaled, y_train)\n",
    "f_importances(abs(svm_model.coef_[0]), feature_names, top=20)\n"
   ]
  },
  {
   "cell_type": "code",
   "execution_count": 38,
   "metadata": {},
   "outputs": [
    {
     "data": {
      "text/html": [
       "<div>\n",
       "<style scoped>\n",
       "    .dataframe tbody tr th:only-of-type {\n",
       "        vertical-align: middle;\n",
       "    }\n",
       "\n",
       "    .dataframe tbody tr th {\n",
       "        vertical-align: top;\n",
       "    }\n",
       "\n",
       "    .dataframe thead th {\n",
       "        text-align: right;\n",
       "    }\n",
       "</style>\n",
       "<table border=\"1\" class=\"dataframe\">\n",
       "  <thead>\n",
       "    <tr style=\"text-align: right;\">\n",
       "      <th></th>\n",
       "      <th>koi_duration_err1</th>\n",
       "      <th>koi_duration_err2</th>\n",
       "      <th>koi_time0bk_err1</th>\n",
       "      <th>koi_time0bk_err2</th>\n",
       "      <th>koi_steff_err1</th>\n",
       "      <th>koi_duration</th>\n",
       "      <th>koi_period</th>\n",
       "      <th>koi_steff_err2</th>\n",
       "      <th>koi_teq</th>\n",
       "      <th>koi_impact_err1</th>\n",
       "      <th>koi_tce_plnt_num</th>\n",
       "      <th>koi_period_err2</th>\n",
       "      <th>koi_period_err1</th>\n",
       "      <th>koi_time0bk</th>\n",
       "      <th>koi_slogg_err2</th>\n",
       "      <th>koi_srad_err1</th>\n",
       "      <th>koi_fpflag_nt</th>\n",
       "      <th>koi_steff</th>\n",
       "      <th>koi_model_snr</th>\n",
       "      <th>koi_slogg</th>\n",
       "    </tr>\n",
       "  </thead>\n",
       "  <tbody>\n",
       "    <tr>\n",
       "      <td>0</td>\n",
       "      <td>0.11600</td>\n",
       "      <td>-0.11600</td>\n",
       "      <td>0.003520</td>\n",
       "      <td>-0.003520</td>\n",
       "      <td>81</td>\n",
       "      <td>4.50700</td>\n",
       "      <td>54.418383</td>\n",
       "      <td>-81</td>\n",
       "      <td>443</td>\n",
       "      <td>0.059</td>\n",
       "      <td>2</td>\n",
       "      <td>-2.479000e-04</td>\n",
       "      <td>2.479000e-04</td>\n",
       "      <td>162.513840</td>\n",
       "      <td>-0.096</td>\n",
       "      <td>0.105</td>\n",
       "      <td>0</td>\n",
       "      <td>5455</td>\n",
       "      <td>25.8</td>\n",
       "      <td>4.467</td>\n",
       "    </tr>\n",
       "    <tr>\n",
       "      <td>1</td>\n",
       "      <td>0.03410</td>\n",
       "      <td>-0.03410</td>\n",
       "      <td>0.000581</td>\n",
       "      <td>-0.000581</td>\n",
       "      <td>158</td>\n",
       "      <td>1.78220</td>\n",
       "      <td>19.899140</td>\n",
       "      <td>-176</td>\n",
       "      <td>638</td>\n",
       "      <td>5.126</td>\n",
       "      <td>1</td>\n",
       "      <td>-1.490000e-05</td>\n",
       "      <td>1.490000e-05</td>\n",
       "      <td>175.850252</td>\n",
       "      <td>-0.176</td>\n",
       "      <td>0.233</td>\n",
       "      <td>0</td>\n",
       "      <td>5853</td>\n",
       "      <td>76.3</td>\n",
       "      <td>4.544</td>\n",
       "    </tr>\n",
       "    <tr>\n",
       "      <td>2</td>\n",
       "      <td>0.00537</td>\n",
       "      <td>-0.00537</td>\n",
       "      <td>0.000115</td>\n",
       "      <td>-0.000115</td>\n",
       "      <td>157</td>\n",
       "      <td>2.40641</td>\n",
       "      <td>1.736952</td>\n",
       "      <td>-174</td>\n",
       "      <td>1395</td>\n",
       "      <td>0.115</td>\n",
       "      <td>1</td>\n",
       "      <td>-2.630000e-07</td>\n",
       "      <td>2.630000e-07</td>\n",
       "      <td>170.307565</td>\n",
       "      <td>-0.168</td>\n",
       "      <td>0.201</td>\n",
       "      <td>0</td>\n",
       "      <td>5805</td>\n",
       "      <td>505.6</td>\n",
       "      <td>4.564</td>\n",
       "    </tr>\n",
       "    <tr>\n",
       "      <td>3</td>\n",
       "      <td>0.04200</td>\n",
       "      <td>-0.04200</td>\n",
       "      <td>0.001130</td>\n",
       "      <td>-0.001130</td>\n",
       "      <td>169</td>\n",
       "      <td>1.65450</td>\n",
       "      <td>2.525592</td>\n",
       "      <td>-211</td>\n",
       "      <td>1406</td>\n",
       "      <td>0.235</td>\n",
       "      <td>1</td>\n",
       "      <td>-3.760000e-06</td>\n",
       "      <td>3.760000e-06</td>\n",
       "      <td>171.595550</td>\n",
       "      <td>-0.210</td>\n",
       "      <td>0.334</td>\n",
       "      <td>0</td>\n",
       "      <td>6031</td>\n",
       "      <td>40.9</td>\n",
       "      <td>4.438</td>\n",
       "    </tr>\n",
       "    <tr>\n",
       "      <td>4</td>\n",
       "      <td>0.06730</td>\n",
       "      <td>-0.06730</td>\n",
       "      <td>0.001900</td>\n",
       "      <td>-0.001900</td>\n",
       "      <td>189</td>\n",
       "      <td>3.14020</td>\n",
       "      <td>4.134435</td>\n",
       "      <td>-232</td>\n",
       "      <td>1160</td>\n",
       "      <td>0.139</td>\n",
       "      <td>2</td>\n",
       "      <td>-1.050000e-05</td>\n",
       "      <td>1.050000e-05</td>\n",
       "      <td>172.979370</td>\n",
       "      <td>-0.229</td>\n",
       "      <td>0.315</td>\n",
       "      <td>0</td>\n",
       "      <td>6046</td>\n",
       "      <td>40.2</td>\n",
       "      <td>4.486</td>\n",
       "    </tr>\n",
       "    <tr>\n",
       "      <td>...</td>\n",
       "      <td>...</td>\n",
       "      <td>...</td>\n",
       "      <td>...</td>\n",
       "      <td>...</td>\n",
       "      <td>...</td>\n",
       "      <td>...</td>\n",
       "      <td>...</td>\n",
       "      <td>...</td>\n",
       "      <td>...</td>\n",
       "      <td>...</td>\n",
       "      <td>...</td>\n",
       "      <td>...</td>\n",
       "      <td>...</td>\n",
       "      <td>...</td>\n",
       "      <td>...</td>\n",
       "      <td>...</td>\n",
       "      <td>...</td>\n",
       "      <td>...</td>\n",
       "      <td>...</td>\n",
       "      <td>...</td>\n",
       "    </tr>\n",
       "    <tr>\n",
       "      <td>6986</td>\n",
       "      <td>0.63400</td>\n",
       "      <td>-0.63400</td>\n",
       "      <td>0.015700</td>\n",
       "      <td>-0.015700</td>\n",
       "      <td>169</td>\n",
       "      <td>4.80600</td>\n",
       "      <td>8.589871</td>\n",
       "      <td>-152</td>\n",
       "      <td>929</td>\n",
       "      <td>0.023</td>\n",
       "      <td>1</td>\n",
       "      <td>-1.846000e-04</td>\n",
       "      <td>1.846000e-04</td>\n",
       "      <td>132.016100</td>\n",
       "      <td>-0.189</td>\n",
       "      <td>0.313</td>\n",
       "      <td>0</td>\n",
       "      <td>5638</td>\n",
       "      <td>8.4</td>\n",
       "      <td>4.296</td>\n",
       "    </tr>\n",
       "    <tr>\n",
       "      <td>6987</td>\n",
       "      <td>0.01740</td>\n",
       "      <td>-0.01740</td>\n",
       "      <td>0.000170</td>\n",
       "      <td>-0.000170</td>\n",
       "      <td>139</td>\n",
       "      <td>3.22210</td>\n",
       "      <td>0.527699</td>\n",
       "      <td>-166</td>\n",
       "      <td>2088</td>\n",
       "      <td>0.051</td>\n",
       "      <td>1</td>\n",
       "      <td>-1.160000e-07</td>\n",
       "      <td>1.160000e-07</td>\n",
       "      <td>131.705093</td>\n",
       "      <td>-0.196</td>\n",
       "      <td>0.237</td>\n",
       "      <td>0</td>\n",
       "      <td>5638</td>\n",
       "      <td>453.3</td>\n",
       "      <td>4.529</td>\n",
       "    </tr>\n",
       "    <tr>\n",
       "      <td>6988</td>\n",
       "      <td>0.22900</td>\n",
       "      <td>-0.22900</td>\n",
       "      <td>0.007690</td>\n",
       "      <td>-0.007690</td>\n",
       "      <td>165</td>\n",
       "      <td>3.11400</td>\n",
       "      <td>1.739849</td>\n",
       "      <td>-220</td>\n",
       "      <td>1608</td>\n",
       "      <td>0.423</td>\n",
       "      <td>1</td>\n",
       "      <td>-1.780000e-05</td>\n",
       "      <td>1.780000e-05</td>\n",
       "      <td>133.001270</td>\n",
       "      <td>-0.224</td>\n",
       "      <td>0.341</td>\n",
       "      <td>0</td>\n",
       "      <td>6119</td>\n",
       "      <td>10.6</td>\n",
       "      <td>4.444</td>\n",
       "    </tr>\n",
       "    <tr>\n",
       "      <td>6989</td>\n",
       "      <td>0.16200</td>\n",
       "      <td>-0.16200</td>\n",
       "      <td>0.002850</td>\n",
       "      <td>-0.002850</td>\n",
       "      <td>193</td>\n",
       "      <td>0.86500</td>\n",
       "      <td>0.681402</td>\n",
       "      <td>-236</td>\n",
       "      <td>2218</td>\n",
       "      <td>0.309</td>\n",
       "      <td>1</td>\n",
       "      <td>-2.430000e-06</td>\n",
       "      <td>2.430000e-06</td>\n",
       "      <td>132.181750</td>\n",
       "      <td>-0.224</td>\n",
       "      <td>0.341</td>\n",
       "      <td>0</td>\n",
       "      <td>6173</td>\n",
       "      <td>12.3</td>\n",
       "      <td>4.447</td>\n",
       "    </tr>\n",
       "    <tr>\n",
       "      <td>6990</td>\n",
       "      <td>0.28300</td>\n",
       "      <td>-0.28300</td>\n",
       "      <td>0.010800</td>\n",
       "      <td>-0.010800</td>\n",
       "      <td>158</td>\n",
       "      <td>3.07800</td>\n",
       "      <td>4.856035</td>\n",
       "      <td>-225</td>\n",
       "      <td>1266</td>\n",
       "      <td>0.323</td>\n",
       "      <td>1</td>\n",
       "      <td>-6.360000e-05</td>\n",
       "      <td>6.360000e-05</td>\n",
       "      <td>135.993300</td>\n",
       "      <td>-0.216</td>\n",
       "      <td>0.410</td>\n",
       "      <td>0</td>\n",
       "      <td>6469</td>\n",
       "      <td>8.2</td>\n",
       "      <td>4.385</td>\n",
       "    </tr>\n",
       "  </tbody>\n",
       "</table>\n",
       "<p>6991 rows × 20 columns</p>\n",
       "</div>"
      ],
      "text/plain": [
       "      koi_duration_err1  koi_duration_err2  koi_time0bk_err1  \\\n",
       "0               0.11600           -0.11600          0.003520   \n",
       "1               0.03410           -0.03410          0.000581   \n",
       "2               0.00537           -0.00537          0.000115   \n",
       "3               0.04200           -0.04200          0.001130   \n",
       "4               0.06730           -0.06730          0.001900   \n",
       "...                 ...                ...               ...   \n",
       "6986            0.63400           -0.63400          0.015700   \n",
       "6987            0.01740           -0.01740          0.000170   \n",
       "6988            0.22900           -0.22900          0.007690   \n",
       "6989            0.16200           -0.16200          0.002850   \n",
       "6990            0.28300           -0.28300          0.010800   \n",
       "\n",
       "      koi_time0bk_err2  koi_steff_err1  koi_duration  koi_period  \\\n",
       "0            -0.003520              81       4.50700   54.418383   \n",
       "1            -0.000581             158       1.78220   19.899140   \n",
       "2            -0.000115             157       2.40641    1.736952   \n",
       "3            -0.001130             169       1.65450    2.525592   \n",
       "4            -0.001900             189       3.14020    4.134435   \n",
       "...                ...             ...           ...         ...   \n",
       "6986         -0.015700             169       4.80600    8.589871   \n",
       "6987         -0.000170             139       3.22210    0.527699   \n",
       "6988         -0.007690             165       3.11400    1.739849   \n",
       "6989         -0.002850             193       0.86500    0.681402   \n",
       "6990         -0.010800             158       3.07800    4.856035   \n",
       "\n",
       "      koi_steff_err2  koi_teq  koi_impact_err1  koi_tce_plnt_num  \\\n",
       "0                -81      443            0.059                 2   \n",
       "1               -176      638            5.126                 1   \n",
       "2               -174     1395            0.115                 1   \n",
       "3               -211     1406            0.235                 1   \n",
       "4               -232     1160            0.139                 2   \n",
       "...              ...      ...              ...               ...   \n",
       "6986            -152      929            0.023                 1   \n",
       "6987            -166     2088            0.051                 1   \n",
       "6988            -220     1608            0.423                 1   \n",
       "6989            -236     2218            0.309                 1   \n",
       "6990            -225     1266            0.323                 1   \n",
       "\n",
       "      koi_period_err2  koi_period_err1  koi_time0bk  koi_slogg_err2  \\\n",
       "0       -2.479000e-04     2.479000e-04   162.513840          -0.096   \n",
       "1       -1.490000e-05     1.490000e-05   175.850252          -0.176   \n",
       "2       -2.630000e-07     2.630000e-07   170.307565          -0.168   \n",
       "3       -3.760000e-06     3.760000e-06   171.595550          -0.210   \n",
       "4       -1.050000e-05     1.050000e-05   172.979370          -0.229   \n",
       "...               ...              ...          ...             ...   \n",
       "6986    -1.846000e-04     1.846000e-04   132.016100          -0.189   \n",
       "6987    -1.160000e-07     1.160000e-07   131.705093          -0.196   \n",
       "6988    -1.780000e-05     1.780000e-05   133.001270          -0.224   \n",
       "6989    -2.430000e-06     2.430000e-06   132.181750          -0.224   \n",
       "6990    -6.360000e-05     6.360000e-05   135.993300          -0.216   \n",
       "\n",
       "      koi_srad_err1  koi_fpflag_nt  koi_steff  koi_model_snr  koi_slogg  \n",
       "0             0.105              0       5455           25.8      4.467  \n",
       "1             0.233              0       5853           76.3      4.544  \n",
       "2             0.201              0       5805          505.6      4.564  \n",
       "3             0.334              0       6031           40.9      4.438  \n",
       "4             0.315              0       6046           40.2      4.486  \n",
       "...             ...            ...        ...            ...        ...  \n",
       "6986          0.313              0       5638            8.4      4.296  \n",
       "6987          0.237              0       5638          453.3      4.529  \n",
       "6988          0.341              0       6119           10.6      4.444  \n",
       "6989          0.341              0       6173           12.3      4.447  \n",
       "6990          0.410              0       6469            8.2      4.385  \n",
       "\n",
       "[6991 rows x 20 columns]"
      ]
     },
     "execution_count": 38,
     "metadata": {},
     "output_type": "execute_result"
    }
   ],
   "source": [
    "Xsel = X[['koi_duration_err1', 'koi_duration_err2', 'koi_time0bk_err1', 'koi_time0bk_err2',\n",
    "         'koi_steff_err1', 'koi_duration', 'koi_period', 'koi_steff_err2', 'koi_teq', 'koi_impact_err1',\n",
    "         'koi_tce_plnt_num', 'koi_period_err2', 'koi_period_err1', 'koi_time0bk', 'koi_slogg_err2',\n",
    "         'koi_srad_err1', 'koi_fpflag_nt', 'koi_steff', 'koi_model_snr', 'koi_slogg']]\n",
    "Xsel"
   ]
  },
  {
   "cell_type": "markdown",
   "metadata": {},
   "source": [
    "## Create a Train Test Split     \n",
    "*Use koi_disposition for the y values*"
   ]
  },
  {
   "cell_type": "code",
   "execution_count": 39,
   "metadata": {},
   "outputs": [],
   "source": [
    "from sklearn.model_selection import train_test_split"
   ]
  },
  {
   "cell_type": "code",
   "execution_count": 40,
   "metadata": {},
   "outputs": [],
   "source": [
    "X_train, X_test, y_train, y_test = train_test_split(Xsel, y, random_state = 1, stratify = y)"
   ]
  },
  {
   "cell_type": "markdown",
   "metadata": {},
   "source": [
    "## Pre-processing     \n",
    "*Scale the data using the MinMaxScaler and perform some feature selection*"
   ]
  },
  {
   "cell_type": "code",
   "execution_count": 41,
   "metadata": {},
   "outputs": [],
   "source": [
    "# Scale the data\n",
    "from sklearn.preprocessing import MinMaxScaler\n",
    "\n",
    "X_scaler = MinMaxScaler().fit(X_train)\n",
    "X_train_scaled = X_scaler.transform(X_train)\n",
    "X_test_scaled = X_scaler.transform(X_test)"
   ]
  },
  {
   "cell_type": "markdown",
   "metadata": {},
   "source": [
    "## Train the Model     \n",
    "---------------"
   ]
  },
  {
   "cell_type": "code",
   "execution_count": 42,
   "metadata": {},
   "outputs": [
    {
     "data": {
      "text/plain": [
       "SVC(C=1.0, cache_size=200, class_weight=None, coef0=0.0,\n",
       "    decision_function_shape='ovr', degree=3, gamma='auto_deprecated',\n",
       "    kernel='linear', max_iter=-1, probability=False, random_state=None,\n",
       "    shrinking=True, tol=0.001, verbose=False)"
      ]
     },
     "execution_count": 42,
     "metadata": {},
     "output_type": "execute_result"
    }
   ],
   "source": [
    "from sklearn.svm import SVC\n",
    "svm_model = SVC(kernel='linear')\n",
    "svm_model.fit(X_train_scaled, y_train)"
   ]
  },
  {
   "cell_type": "code",
   "execution_count": 43,
   "metadata": {},
   "outputs": [
    {
     "name": "stdout",
     "output_type": "stream",
     "text": [
      "Training Data Score: 0.7098989128361625\n",
      "Testing Data Score: 0.715675057208238\n"
     ]
    }
   ],
   "source": [
    "print(f\"Training Data Score: {svm_model.score(X_train_scaled, y_train)}\")\n",
    "print(f\"Testing Data Score: {svm_model.score(X_test_scaled, y_test)}\")"
   ]
  },
  {
   "cell_type": "code",
   "execution_count": null,
   "metadata": {},
   "outputs": [],
   "source": [
    "svm_model.coef_"
   ]
  },
  {
   "cell_type": "code",
   "execution_count": null,
   "metadata": {},
   "outputs": [],
   "source": [
    "from matplotlib import pyplot as plt\n",
    "from sklearn import svm\n",
    "\n",
    "def f_importances(coef, names, top=-1):\n",
    "    imp = coef\n",
    "    imp, names = zip(*sorted(list(zip(imp, names))))\n",
    "\n",
    "    # Show all features\n",
    "    if top == -1:\n",
    "        top = len(names)\n",
    "\n",
    "    plt.barh(range(top), imp[::-1][0:top], align='center')\n",
    "    plt.yticks(range(top), names[::-1][0:top])\n",
    "    plt.show()\n",
    "    \n",
    "feature_names = ['koi_fpflag_nt', 'koi_fpflag_ss', 'koi_fpflag_co',\n",
    "       'koi_fpflag_ec', 'koi_period', 'koi_period_err1', 'koi_period_err2',\n",
    "       'koi_time0bk', 'koi_time0bk_err1', 'koi_time0bk_err2', 'koi_impact',\n",
    "       'koi_impact_err1', 'koi_impact_err2', 'koi_duration',\n",
    "       'koi_duration_err1', 'koi_duration_err2', 'koi_depth', 'koi_depth_err1',\n",
    "       'koi_depth_err2', 'koi_prad', 'koi_prad_err1', 'koi_prad_err2',\n",
    "       'koi_teq', 'koi_insol', 'koi_insol_err1', 'koi_insol_err2',\n",
    "       'koi_model_snr', 'koi_tce_plnt_num', 'koi_steff', 'koi_steff_err1',\n",
    "       'koi_steff_err2', 'koi_slogg', 'koi_slogg_err1', 'koi_slogg_err2',\n",
    "       'koi_srad', 'koi_srad_err1', 'koi_srad_err2', 'ra', 'dec',\n",
    "       'koi_kepmag'] \n",
    "\n",
    "svm_model.fit(X_train_scaled, y_train)\n",
    "f_importances(abs(svm_model.coef_[0]), feature_names, top=10)\n",
    "print(f_importances)"
   ]
  },
  {
   "cell_type": "code",
   "execution_count": null,
   "metadata": {},
   "outputs": [],
   "source": [
    "df.columns"
   ]
  },
  {
   "cell_type": "markdown",
   "metadata": {},
   "source": [
    "## Hyperparameter Tuning     \n",
    "*Use GridSearchCV to tune the model's parameters*"
   ]
  },
  {
   "cell_type": "code",
   "execution_count": 44,
   "metadata": {},
   "outputs": [],
   "source": [
    "# Create the GridSearchCV model\n",
    "from sklearn.model_selection import GridSearchCV\n",
    "\n",
    "param_grid = {'C': [1, 5, 10, 2500], 'tol': [.02]} \n",
    "grid = GridSearchCV(svm_model, param_grid, verbose=3)"
   ]
  },
  {
   "cell_type": "code",
   "execution_count": 45,
   "metadata": {},
   "outputs": [
    {
     "name": "stderr",
     "output_type": "stream",
     "text": [
      "C:\\Users\\test\\Anaconda3\\lib\\site-packages\\sklearn\\model_selection\\_split.py:1978: FutureWarning: The default value of cv will change from 3 to 5 in version 0.22. Specify it explicitly to silence this warning.\n",
      "  warnings.warn(CV_WARNING, FutureWarning)\n",
      "[Parallel(n_jobs=1)]: Using backend SequentialBackend with 1 concurrent workers.\n"
     ]
    },
    {
     "name": "stdout",
     "output_type": "stream",
     "text": [
      "Fitting 3 folds for each of 4 candidates, totalling 12 fits\n",
      "[CV] C=1, tol=0.02 ...................................................\n",
      "[CV] ....................... C=1, tol=0.02, score=0.702, total=   0.4s\n",
      "[CV] C=1, tol=0.02 ...................................................\n"
     ]
    },
    {
     "name": "stderr",
     "output_type": "stream",
     "text": [
      "[Parallel(n_jobs=1)]: Done   1 out of   1 | elapsed:    0.3s remaining:    0.0s\n"
     ]
    },
    {
     "name": "stdout",
     "output_type": "stream",
     "text": [
      "[CV] ....................... C=1, tol=0.02, score=0.688, total=   0.4s\n",
      "[CV] C=1, tol=0.02 ...................................................\n"
     ]
    },
    {
     "name": "stderr",
     "output_type": "stream",
     "text": [
      "[Parallel(n_jobs=1)]: Done   2 out of   2 | elapsed:    0.6s remaining:    0.0s\n"
     ]
    },
    {
     "name": "stdout",
     "output_type": "stream",
     "text": [
      "[CV] ....................... C=1, tol=0.02, score=0.707, total=   0.4s\n",
      "[CV] C=5, tol=0.02 ...................................................\n",
      "[CV] ....................... C=5, tol=0.02, score=0.733, total=   0.3s\n",
      "[CV] C=5, tol=0.02 ...................................................\n",
      "[CV] ....................... C=5, tol=0.02, score=0.720, total=   0.3s\n",
      "[CV] C=5, tol=0.02 ...................................................\n",
      "[CV] ....................... C=5, tol=0.02, score=0.740, total=   0.3s\n",
      "[CV] C=10, tol=0.02 ..................................................\n",
      "[CV] ...................... C=10, tol=0.02, score=0.745, total=   0.3s\n",
      "[CV] C=10, tol=0.02 ..................................................\n",
      "[CV] ...................... C=10, tol=0.02, score=0.737, total=   0.5s\n",
      "[CV] C=10, tol=0.02 ..................................................\n",
      "[CV] ...................... C=10, tol=0.02, score=0.748, total=   0.3s\n",
      "[CV] C=2500, tol=0.02 ................................................\n",
      "[CV] .................... C=2500, tol=0.02, score=0.775, total=   0.9s\n",
      "[CV] C=2500, tol=0.02 ................................................\n",
      "[CV] .................... C=2500, tol=0.02, score=0.756, total=   1.0s\n",
      "[CV] C=2500, tol=0.02 ................................................\n",
      "[CV] .................... C=2500, tol=0.02, score=0.776, total=   1.0s\n"
     ]
    },
    {
     "name": "stderr",
     "output_type": "stream",
     "text": [
      "[Parallel(n_jobs=1)]: Done  12 out of  12 | elapsed:    5.9s finished\n"
     ]
    }
   ],
   "source": [
    "# Train the model with GridSearch\n",
    "gs = grid.fit(X_train_scaled,y_train)"
   ]
  },
  {
   "cell_type": "code",
   "execution_count": 46,
   "metadata": {},
   "outputs": [
    {
     "name": "stdout",
     "output_type": "stream",
     "text": [
      "{'C': 2500, 'tol': 0.02}\n",
      "0.7688346366584017\n"
     ]
    }
   ],
   "source": [
    "print(grid.best_params_)\n",
    "print(grid.best_score_)"
   ]
  },
  {
   "cell_type": "code",
   "execution_count": 47,
   "metadata": {},
   "outputs": [
    {
     "name": "stdout",
     "output_type": "stream",
     "text": [
      "                precision    recall  f1-score   support\n",
      "\n",
      "     CANDIDATE       0.65      0.56      0.60       422\n",
      "     CONFIRMED       0.68      0.77      0.72       450\n",
      "FALSE POSITIVE       0.87      0.86      0.87       876\n",
      "\n",
      "      accuracy                           0.77      1748\n",
      "     macro avg       0.73      0.73      0.73      1748\n",
      "  weighted avg       0.77      0.77      0.76      1748\n",
      "\n"
     ]
    }
   ],
   "source": [
    "# Print out classifications report\n",
    "predictions = gs.predict(X_test_scaled)\n",
    "\n",
    "from sklearn.metrics import classification_report\n",
    "print(classification_report(y_test, predictions))"
   ]
  },
  {
   "cell_type": "markdown",
   "metadata": {},
   "source": [
    "## Save the Model     \n",
    "----------------"
   ]
  },
  {
   "cell_type": "code",
   "execution_count": null,
   "metadata": {},
   "outputs": [],
   "source": [
    "import joblib\n",
    "filename = 'Model_Files/SVM_final.sav'\n",
    "joblib.dump(grid, filename)"
   ]
  },
  {
   "cell_type": "code",
   "execution_count": null,
   "metadata": {},
   "outputs": [],
   "source": []
  }
 ],
 "metadata": {
  "kernelspec": {
   "display_name": "Python 3",
   "language": "python",
   "name": "python3"
  },
  "language_info": {
   "codemirror_mode": {
    "name": "ipython",
    "version": 3
   },
   "file_extension": ".py",
   "mimetype": "text/x-python",
   "name": "python",
   "nbconvert_exporter": "python",
   "pygments_lexer": "ipython3",
   "version": "3.7.4"
  }
 },
 "nbformat": 4,
 "nbformat_minor": 2
}
