{
 "cells": [
  {
   "cell_type": "code",
   "execution_count": 1,
   "metadata": {},
   "outputs": [],
   "source": [
    "import matplotlib.pyplot as plt\n",
    "import pandas as pd\n",
    "import numpy as np\n",
    "import os"
   ]
  },
  {
   "cell_type": "code",
   "execution_count": 2,
   "metadata": {},
   "outputs": [],
   "source": [
    "# Set the seed value for the notebook so the results are reproducible\n",
    "from numpy.random import seed\n",
    "seed(1)"
   ]
  },
  {
   "cell_type": "code",
   "execution_count": 3,
   "metadata": {},
   "outputs": [
    {
     "data": {
      "text/plain": [
       "'2.2.4-tf'"
      ]
     },
     "execution_count": 3,
     "metadata": {},
     "output_type": "execute_result"
    }
   ],
   "source": [
    "import tensorflow\n",
    "tensorflow.keras.__version__"
   ]
  },
  {
   "cell_type": "code",
   "execution_count": 4,
   "metadata": {},
   "outputs": [
    {
     "data": {
      "text/html": [
       "<div>\n",
       "<style scoped>\n",
       "    .dataframe tbody tr th:only-of-type {\n",
       "        vertical-align: middle;\n",
       "    }\n",
       "\n",
       "    .dataframe tbody tr th {\n",
       "        vertical-align: top;\n",
       "    }\n",
       "\n",
       "    .dataframe thead th {\n",
       "        text-align: right;\n",
       "    }\n",
       "</style>\n",
       "<table border=\"1\" class=\"dataframe\">\n",
       "  <thead>\n",
       "    <tr style=\"text-align: right;\">\n",
       "      <th></th>\n",
       "      <th>koi_disposition</th>\n",
       "      <th>koi_fpflag_nt</th>\n",
       "      <th>koi_fpflag_ss</th>\n",
       "      <th>koi_fpflag_co</th>\n",
       "      <th>koi_fpflag_ec</th>\n",
       "      <th>koi_period</th>\n",
       "      <th>koi_period_err1</th>\n",
       "      <th>koi_period_err2</th>\n",
       "      <th>koi_time0bk</th>\n",
       "      <th>koi_time0bk_err1</th>\n",
       "      <th>...</th>\n",
       "      <th>koi_steff_err2</th>\n",
       "      <th>koi_slogg</th>\n",
       "      <th>koi_slogg_err1</th>\n",
       "      <th>koi_slogg_err2</th>\n",
       "      <th>koi_srad</th>\n",
       "      <th>koi_srad_err1</th>\n",
       "      <th>koi_srad_err2</th>\n",
       "      <th>ra</th>\n",
       "      <th>dec</th>\n",
       "      <th>koi_kepmag</th>\n",
       "    </tr>\n",
       "  </thead>\n",
       "  <tbody>\n",
       "    <tr>\n",
       "      <th>0</th>\n",
       "      <td>CONFIRMED</td>\n",
       "      <td>0</td>\n",
       "      <td>0</td>\n",
       "      <td>0</td>\n",
       "      <td>0</td>\n",
       "      <td>54.418383</td>\n",
       "      <td>2.479000e-04</td>\n",
       "      <td>-2.479000e-04</td>\n",
       "      <td>162.513840</td>\n",
       "      <td>0.003520</td>\n",
       "      <td>...</td>\n",
       "      <td>-81</td>\n",
       "      <td>4.467</td>\n",
       "      <td>0.064</td>\n",
       "      <td>-0.096</td>\n",
       "      <td>0.927</td>\n",
       "      <td>0.105</td>\n",
       "      <td>-0.061</td>\n",
       "      <td>291.93423</td>\n",
       "      <td>48.141651</td>\n",
       "      <td>15.347</td>\n",
       "    </tr>\n",
       "    <tr>\n",
       "      <th>1</th>\n",
       "      <td>FALSE POSITIVE</td>\n",
       "      <td>0</td>\n",
       "      <td>1</td>\n",
       "      <td>0</td>\n",
       "      <td>0</td>\n",
       "      <td>19.899140</td>\n",
       "      <td>1.490000e-05</td>\n",
       "      <td>-1.490000e-05</td>\n",
       "      <td>175.850252</td>\n",
       "      <td>0.000581</td>\n",
       "      <td>...</td>\n",
       "      <td>-176</td>\n",
       "      <td>4.544</td>\n",
       "      <td>0.044</td>\n",
       "      <td>-0.176</td>\n",
       "      <td>0.868</td>\n",
       "      <td>0.233</td>\n",
       "      <td>-0.078</td>\n",
       "      <td>297.00482</td>\n",
       "      <td>48.134129</td>\n",
       "      <td>15.436</td>\n",
       "    </tr>\n",
       "    <tr>\n",
       "      <th>2</th>\n",
       "      <td>FALSE POSITIVE</td>\n",
       "      <td>0</td>\n",
       "      <td>1</td>\n",
       "      <td>0</td>\n",
       "      <td>0</td>\n",
       "      <td>1.736952</td>\n",
       "      <td>2.630000e-07</td>\n",
       "      <td>-2.630000e-07</td>\n",
       "      <td>170.307565</td>\n",
       "      <td>0.000115</td>\n",
       "      <td>...</td>\n",
       "      <td>-174</td>\n",
       "      <td>4.564</td>\n",
       "      <td>0.053</td>\n",
       "      <td>-0.168</td>\n",
       "      <td>0.791</td>\n",
       "      <td>0.201</td>\n",
       "      <td>-0.067</td>\n",
       "      <td>285.53461</td>\n",
       "      <td>48.285210</td>\n",
       "      <td>15.597</td>\n",
       "    </tr>\n",
       "    <tr>\n",
       "      <th>3</th>\n",
       "      <td>CONFIRMED</td>\n",
       "      <td>0</td>\n",
       "      <td>0</td>\n",
       "      <td>0</td>\n",
       "      <td>0</td>\n",
       "      <td>2.525592</td>\n",
       "      <td>3.760000e-06</td>\n",
       "      <td>-3.760000e-06</td>\n",
       "      <td>171.595550</td>\n",
       "      <td>0.001130</td>\n",
       "      <td>...</td>\n",
       "      <td>-211</td>\n",
       "      <td>4.438</td>\n",
       "      <td>0.070</td>\n",
       "      <td>-0.210</td>\n",
       "      <td>1.046</td>\n",
       "      <td>0.334</td>\n",
       "      <td>-0.133</td>\n",
       "      <td>288.75488</td>\n",
       "      <td>48.226200</td>\n",
       "      <td>15.509</td>\n",
       "    </tr>\n",
       "    <tr>\n",
       "      <th>4</th>\n",
       "      <td>CONFIRMED</td>\n",
       "      <td>0</td>\n",
       "      <td>0</td>\n",
       "      <td>0</td>\n",
       "      <td>0</td>\n",
       "      <td>4.134435</td>\n",
       "      <td>1.050000e-05</td>\n",
       "      <td>-1.050000e-05</td>\n",
       "      <td>172.979370</td>\n",
       "      <td>0.001900</td>\n",
       "      <td>...</td>\n",
       "      <td>-232</td>\n",
       "      <td>4.486</td>\n",
       "      <td>0.054</td>\n",
       "      <td>-0.229</td>\n",
       "      <td>0.972</td>\n",
       "      <td>0.315</td>\n",
       "      <td>-0.105</td>\n",
       "      <td>296.28613</td>\n",
       "      <td>48.224670</td>\n",
       "      <td>15.714</td>\n",
       "    </tr>\n",
       "  </tbody>\n",
       "</table>\n",
       "<p>5 rows × 41 columns</p>\n",
       "</div>"
      ],
      "text/plain": [
       "  koi_disposition  koi_fpflag_nt  koi_fpflag_ss  koi_fpflag_co  koi_fpflag_ec  \\\n",
       "0       CONFIRMED              0              0              0              0   \n",
       "1  FALSE POSITIVE              0              1              0              0   \n",
       "2  FALSE POSITIVE              0              1              0              0   \n",
       "3       CONFIRMED              0              0              0              0   \n",
       "4       CONFIRMED              0              0              0              0   \n",
       "\n",
       "   koi_period  koi_period_err1  koi_period_err2  koi_time0bk  \\\n",
       "0   54.418383     2.479000e-04    -2.479000e-04   162.513840   \n",
       "1   19.899140     1.490000e-05    -1.490000e-05   175.850252   \n",
       "2    1.736952     2.630000e-07    -2.630000e-07   170.307565   \n",
       "3    2.525592     3.760000e-06    -3.760000e-06   171.595550   \n",
       "4    4.134435     1.050000e-05    -1.050000e-05   172.979370   \n",
       "\n",
       "   koi_time0bk_err1  ...  koi_steff_err2  koi_slogg  koi_slogg_err1  \\\n",
       "0          0.003520  ...             -81      4.467           0.064   \n",
       "1          0.000581  ...            -176      4.544           0.044   \n",
       "2          0.000115  ...            -174      4.564           0.053   \n",
       "3          0.001130  ...            -211      4.438           0.070   \n",
       "4          0.001900  ...            -232      4.486           0.054   \n",
       "\n",
       "   koi_slogg_err2  koi_srad  koi_srad_err1  koi_srad_err2         ra  \\\n",
       "0          -0.096     0.927          0.105         -0.061  291.93423   \n",
       "1          -0.176     0.868          0.233         -0.078  297.00482   \n",
       "2          -0.168     0.791          0.201         -0.067  285.53461   \n",
       "3          -0.210     1.046          0.334         -0.133  288.75488   \n",
       "4          -0.229     0.972          0.315         -0.105  296.28613   \n",
       "\n",
       "         dec  koi_kepmag  \n",
       "0  48.141651      15.347  \n",
       "1  48.134129      15.436  \n",
       "2  48.285210      15.597  \n",
       "3  48.226200      15.509  \n",
       "4  48.224670      15.714  \n",
       "\n",
       "[5 rows x 41 columns]"
      ]
     },
     "execution_count": 4,
     "metadata": {},
     "output_type": "execute_result"
    }
   ],
   "source": [
    "df = pd.read_csv(os.path.join(\"exoplanet_data.csv\"))\n",
    "df.head()"
   ]
  },
  {
   "cell_type": "code",
   "execution_count": 5,
   "metadata": {},
   "outputs": [
    {
     "name": "stdout",
     "output_type": "stream",
     "text": [
      "(6991, 40) (6991,)\n"
     ]
    }
   ],
   "source": [
    "X = df.drop(\"koi_disposition\", axis=1)\n",
    "y = df[\"koi_disposition\"]\n",
    "print(X.shape, y.shape)"
   ]
  },
  {
   "cell_type": "code",
   "execution_count": 6,
   "metadata": {},
   "outputs": [],
   "source": [
    "from sklearn.model_selection import train_test_split\n",
    "from sklearn.preprocessing import LabelEncoder, MinMaxScaler\n",
    "from tensorflow.keras.utils import to_categorical"
   ]
  },
  {
   "cell_type": "code",
   "execution_count": 37,
   "metadata": {},
   "outputs": [
    {
     "name": "stdout",
     "output_type": "stream",
     "text": [
      "3563         CANDIDATE\n",
      "4099         CONFIRMED\n",
      "5460         CANDIDATE\n",
      "1091         CONFIRMED\n",
      "5999         CANDIDATE\n",
      "             ...      \n",
      "905          CONFIRMED\n",
      "5192    FALSE POSITIVE\n",
      "3980    FALSE POSITIVE\n",
      "235          CONFIRMED\n",
      "5157         CONFIRMED\n",
      "Name: koi_disposition, Length: 5243, dtype: object\n"
     ]
    }
   ],
   "source": [
    "X_train, X_test, y_train, y_test = train_test_split(\n",
    "    X, y, random_state=1)\n",
    "print(y_train)"
   ]
  },
  {
   "cell_type": "code",
   "execution_count": 14,
   "metadata": {},
   "outputs": [
    {
     "data": {
      "text/plain": [
       "array([[0.        , 0.        , 0.        , ..., 0.55368875, 0.10624782,\n",
       "        0.7452682 ],\n",
       "       [1.        , 0.        , 0.        , ..., 0.56376692, 0.27533664,\n",
       "        0.68038681],\n",
       "       [1.        , 0.        , 0.        , ..., 0.55054376, 0.8357821 ,\n",
       "        0.68708158],\n",
       "       ...,\n",
       "       [1.        , 0.        , 0.        , ..., 0.46921294, 0.28946484,\n",
       "        0.69650384],\n",
       "       [0.        , 1.        , 0.        , ..., 0.78806129, 0.81638257,\n",
       "        0.50152905],\n",
       "       [0.        , 0.        , 0.        , ..., 0.31299327, 0.22798481,\n",
       "        0.41557153]])"
      ]
     },
     "execution_count": 14,
     "metadata": {},
     "output_type": "execute_result"
    }
   ],
   "source": [
    "X_scaler = MinMaxScaler().fit(X_train)\n",
    "X_train_scaled = X_scaler.transform(X_train)\n",
    "X_test_scaled = X_scaler.transform(X_test)\n",
    "X_test_scaled"
   ]
  },
  {
   "cell_type": "code",
   "execution_count": 19,
   "metadata": {},
   "outputs": [
    {
     "data": {
      "text/plain": [
       "array([1, 2, 2, ..., 2, 2, 0])"
      ]
     },
     "execution_count": 19,
     "metadata": {},
     "output_type": "execute_result"
    }
   ],
   "source": [
    "# Step 1: Label-encode data set\n",
    "label_encoder = LabelEncoder()\n",
    "label_encoder.fit(y_train)\n",
    "encoded_y_train = label_encoder.transform(y_train)\n",
    "encoded_y_test = label_encoder.transform(y_test)"
   ]
  },
  {
   "cell_type": "code",
   "execution_count": 43,
   "metadata": {},
   "outputs": [
    {
     "data": {
      "text/plain": [
       "array(['CANDIDATE', 'CONFIRMED', 'FALSE POSITIVE'], dtype=object)"
      ]
     },
     "execution_count": 43,
     "metadata": {},
     "output_type": "execute_result"
    }
   ],
   "source": [
    "y_train.unique()"
   ]
  },
  {
   "cell_type": "code",
   "execution_count": 20,
   "metadata": {},
   "outputs": [
    {
     "data": {
      "text/plain": [
       "array([[0., 1., 0.],\n",
       "       [0., 0., 1.],\n",
       "       [0., 0., 1.],\n",
       "       ...,\n",
       "       [0., 0., 1.],\n",
       "       [0., 0., 1.],\n",
       "       [1., 0., 0.]], dtype=float32)"
      ]
     },
     "execution_count": 20,
     "metadata": {},
     "output_type": "execute_result"
    }
   ],
   "source": [
    "# Step 2: Convert encoded labels to one-hot-encoding\n",
    "y_train_categorical = to_categorical(encoded_y_train)\n",
    "y_test_categorical = to_categorical(encoded_y_test)"
   ]
  },
  {
   "cell_type": "code",
   "execution_count": 22,
   "metadata": {},
   "outputs": [],
   "source": [
    "from tensorflow.keras.models import Sequential\n",
    "from tensorflow.keras.layers import Dense"
   ]
  },
  {
   "cell_type": "code",
   "execution_count": 50,
   "metadata": {},
   "outputs": [],
   "source": [
    "# Create model and add layers\n",
    "model = Sequential()\n",
    "model.add(Dense(units=100, activation='relu', input_dim=40))\n",
    "model.add(Dense(units=100, activation='relu'))\n",
    "model.add(Dense(units=3, activation='softmax'))"
   ]
  },
  {
   "cell_type": "code",
   "execution_count": 49,
   "metadata": {},
   "outputs": [
    {
     "name": "stdout",
     "output_type": "stream",
     "text": [
      "(1748, 3)\n"
     ]
    }
   ],
   "source": [
    "\n",
    "print(y_test_categorical.shape)"
   ]
  },
  {
   "cell_type": "code",
   "execution_count": 51,
   "metadata": {},
   "outputs": [],
   "source": [
    "# Compile and fit the model\n",
    "model.compile(optimizer='adam',\n",
    "              loss='categorical_crossentropy',\n",
    "              metrics=['accuracy'])"
   ]
  },
  {
   "cell_type": "code",
   "execution_count": 52,
   "metadata": {},
   "outputs": [
    {
     "name": "stdout",
     "output_type": "stream",
     "text": [
      "Model: \"sequential_5\"\n",
      "_________________________________________________________________\n",
      "Layer (type)                 Output Shape              Param #   \n",
      "=================================================================\n",
      "dense_15 (Dense)             (None, 100)               4100      \n",
      "_________________________________________________________________\n",
      "dense_16 (Dense)             (None, 100)               10100     \n",
      "_________________________________________________________________\n",
      "dense_17 (Dense)             (None, 3)                 303       \n",
      "=================================================================\n",
      "Total params: 14,503\n",
      "Trainable params: 14,503\n",
      "Non-trainable params: 0\n",
      "_________________________________________________________________\n"
     ]
    }
   ],
   "source": [
    "model.summary()"
   ]
  },
  {
   "cell_type": "code",
   "execution_count": 53,
   "metadata": {},
   "outputs": [
    {
     "name": "stdout",
     "output_type": "stream",
     "text": [
      "Train on 5243 samples\n",
      "Epoch 1/60\n",
      "5243/5243 - 2s - loss: 0.5634 - accuracy: 0.7246\n",
      "Epoch 2/60\n",
      "5243/5243 - 1s - loss: 0.3761 - accuracy: 0.8104\n",
      "Epoch 3/60\n",
      "5243/5243 - 0s - loss: 0.3642 - accuracy: 0.8116\n",
      "Epoch 4/60\n",
      "5243/5243 - 0s - loss: 0.3515 - accuracy: 0.8232\n",
      "Epoch 5/60\n",
      "5243/5243 - 0s - loss: 0.3428 - accuracy: 0.8333\n",
      "Epoch 6/60\n",
      "5243/5243 - 1s - loss: 0.3358 - accuracy: 0.8453\n",
      "Epoch 7/60\n",
      "5243/5243 - 1s - loss: 0.3335 - accuracy: 0.8459\n",
      "Epoch 8/60\n",
      "5243/5243 - 1s - loss: 0.3266 - accuracy: 0.8489\n",
      "Epoch 9/60\n",
      "5243/5243 - 1s - loss: 0.3223 - accuracy: 0.8497\n",
      "Epoch 10/60\n",
      "5243/5243 - 1s - loss: 0.3177 - accuracy: 0.8552\n",
      "Epoch 11/60\n",
      "5243/5243 - 1s - loss: 0.3118 - accuracy: 0.8594\n",
      "Epoch 12/60\n",
      "5243/5243 - 1s - loss: 0.3138 - accuracy: 0.8589\n",
      "Epoch 13/60\n",
      "5243/5243 - 1s - loss: 0.3052 - accuracy: 0.8602\n",
      "Epoch 14/60\n",
      "5243/5243 - 1s - loss: 0.3039 - accuracy: 0.8629\n",
      "Epoch 15/60\n",
      "5243/5243 - 0s - loss: 0.3012 - accuracy: 0.8652\n",
      "Epoch 16/60\n",
      "5243/5243 - 0s - loss: 0.3063 - accuracy: 0.8587\n",
      "Epoch 17/60\n",
      "5243/5243 - 0s - loss: 0.2946 - accuracy: 0.8669\n",
      "Epoch 18/60\n",
      "5243/5243 - 1s - loss: 0.2965 - accuracy: 0.8644\n",
      "Epoch 19/60\n",
      "5243/5243 - 0s - loss: 0.2956 - accuracy: 0.8695\n",
      "Epoch 20/60\n",
      "5243/5243 - 1s - loss: 0.2936 - accuracy: 0.8692\n",
      "Epoch 21/60\n",
      "5243/5243 - 1s - loss: 0.2905 - accuracy: 0.8671\n",
      "Epoch 22/60\n",
      "5243/5243 - 1s - loss: 0.2930 - accuracy: 0.8701\n",
      "Epoch 23/60\n",
      "5243/5243 - 0s - loss: 0.2816 - accuracy: 0.8783\n",
      "Epoch 24/60\n",
      "5243/5243 - 1s - loss: 0.2796 - accuracy: 0.8781\n",
      "Epoch 25/60\n",
      "5243/5243 - 0s - loss: 0.2891 - accuracy: 0.8714\n",
      "Epoch 26/60\n",
      "5243/5243 - 0s - loss: 0.2817 - accuracy: 0.8758\n",
      "Epoch 27/60\n",
      "5243/5243 - 0s - loss: 0.2849 - accuracy: 0.8701\n",
      "Epoch 28/60\n",
      "5243/5243 - 0s - loss: 0.2870 - accuracy: 0.8730\n",
      "Epoch 29/60\n",
      "5243/5243 - 0s - loss: 0.2742 - accuracy: 0.8793\n",
      "Epoch 30/60\n",
      "5243/5243 - 0s - loss: 0.2723 - accuracy: 0.8837\n",
      "Epoch 31/60\n",
      "5243/5243 - 0s - loss: 0.2715 - accuracy: 0.8823\n",
      "Epoch 32/60\n",
      "5243/5243 - 0s - loss: 0.2778 - accuracy: 0.8770\n",
      "Epoch 33/60\n",
      "5243/5243 - 0s - loss: 0.2727 - accuracy: 0.8793\n",
      "Epoch 34/60\n",
      "5243/5243 - 1s - loss: 0.2716 - accuracy: 0.8795\n",
      "Epoch 35/60\n",
      "5243/5243 - 0s - loss: 0.2667 - accuracy: 0.8842\n",
      "Epoch 36/60\n",
      "5243/5243 - 0s - loss: 0.2697 - accuracy: 0.8808\n",
      "Epoch 37/60\n",
      "5243/5243 - 0s - loss: 0.2764 - accuracy: 0.8785\n",
      "Epoch 38/60\n",
      "5243/5243 - 0s - loss: 0.2632 - accuracy: 0.8888\n",
      "Epoch 39/60\n",
      "5243/5243 - 1s - loss: 0.2672 - accuracy: 0.8844\n",
      "Epoch 40/60\n",
      "5243/5243 - 0s - loss: 0.2645 - accuracy: 0.8837\n",
      "Epoch 41/60\n",
      "5243/5243 - 1s - loss: 0.2626 - accuracy: 0.8867\n",
      "Epoch 42/60\n",
      "5243/5243 - 0s - loss: 0.2667 - accuracy: 0.8819\n",
      "Epoch 43/60\n",
      "5243/5243 - 0s - loss: 0.2618 - accuracy: 0.8838\n",
      "Epoch 44/60\n",
      "5243/5243 - 0s - loss: 0.2596 - accuracy: 0.8867\n",
      "Epoch 45/60\n",
      "5243/5243 - 0s - loss: 0.2582 - accuracy: 0.8896\n",
      "Epoch 46/60\n",
      "5243/5243 - 0s - loss: 0.2582 - accuracy: 0.8863\n",
      "Epoch 47/60\n",
      "5243/5243 - 1s - loss: 0.2609 - accuracy: 0.8858\n",
      "Epoch 48/60\n",
      "5243/5243 - 1s - loss: 0.2517 - accuracy: 0.8899\n",
      "Epoch 49/60\n",
      "5243/5243 - 1s - loss: 0.2560 - accuracy: 0.8888\n",
      "Epoch 50/60\n",
      "5243/5243 - 1s - loss: 0.2599 - accuracy: 0.8810\n",
      "Epoch 51/60\n",
      "5243/5243 - 1s - loss: 0.2509 - accuracy: 0.8898\n",
      "Epoch 52/60\n",
      "5243/5243 - 0s - loss: 0.2524 - accuracy: 0.8875\n",
      "Epoch 53/60\n",
      "5243/5243 - 1s - loss: 0.2520 - accuracy: 0.8890\n",
      "Epoch 54/60\n",
      "5243/5243 - 1s - loss: 0.2473 - accuracy: 0.8890\n",
      "Epoch 55/60\n",
      "5243/5243 - 0s - loss: 0.2513 - accuracy: 0.8894\n",
      "Epoch 56/60\n",
      "5243/5243 - 1s - loss: 0.2534 - accuracy: 0.8833\n",
      "Epoch 57/60\n",
      "5243/5243 - 0s - loss: 0.2473 - accuracy: 0.8919\n",
      "Epoch 58/60\n",
      "5243/5243 - 0s - loss: 0.2511 - accuracy: 0.8890\n",
      "Epoch 59/60\n",
      "5243/5243 - 0s - loss: 0.2522 - accuracy: 0.8886\n",
      "Epoch 60/60\n",
      "5243/5243 - 0s - loss: 0.2445 - accuracy: 0.8913\n"
     ]
    },
    {
     "data": {
      "text/plain": [
       "<tensorflow.python.keras.callbacks.History at 0x1b086c8f6a0>"
      ]
     },
     "execution_count": 53,
     "metadata": {},
     "output_type": "execute_result"
    }
   ],
   "source": [
    "model.fit(\n",
    "    X_train_scaled,\n",
    "    y_train_categorical,\n",
    "    epochs=60,\n",
    "    shuffle=True,\n",
    "    verbose=2\n",
    ")"
   ]
  },
  {
   "cell_type": "code",
   "execution_count": 56,
   "metadata": {},
   "outputs": [
    {
     "data": {
      "text/plain": [
       "<bound method Network.summary of <tensorflow.python.keras.engine.sequential.Sequential object at 0x000001B085C0C3C8>>"
      ]
     },
     "execution_count": 56,
     "metadata": {},
     "output_type": "execute_result"
    }
   ],
   "source": [
    "model.summary"
   ]
  },
  {
   "cell_type": "code",
   "execution_count": 57,
   "metadata": {},
   "outputs": [
    {
     "name": "stdout",
     "output_type": "stream",
     "text": [
      "1748/1748 - 0s - loss: 0.2712 - accuracy: 0.8850\n",
      "Loss: 0.27116926515675244, Accuracy: 0.8850114345550537\n"
     ]
    }
   ],
   "source": [
    "model_loss, model_accuracy = model.evaluate(X_test_scaled, y_test_categorical, verbose=2)\n",
    "print(f\"Loss: {model_loss}, Accuracy: {model_accuracy}\")"
   ]
  },
  {
   "cell_type": "code",
   "execution_count": null,
   "metadata": {},
   "outputs": [],
   "source": []
  }
 ],
 "metadata": {
  "kernelspec": {
   "display_name": "Python 3",
   "language": "python",
   "name": "python3"
  },
  "language_info": {
   "codemirror_mode": {
    "name": "ipython",
    "version": 3
   },
   "file_extension": ".py",
   "mimetype": "text/x-python",
   "name": "python",
   "nbconvert_exporter": "python",
   "pygments_lexer": "ipython3",
   "version": "3.6.10"
  }
 },
 "nbformat": 4,
 "nbformat_minor": 4
}
