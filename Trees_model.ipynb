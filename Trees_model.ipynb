{
 "cells": [
  {
   "cell_type": "code",
   "execution_count": 1,
   "metadata": {},
   "outputs": [
    {
     "name": "stdout",
     "output_type": "stream",
     "text": [
      "Requirement already up-to-date: sklearn in c:\\users\\test\\anaconda3\\envs\\pythondata\\lib\\site-packages (0.0)\n",
      "Requirement already satisfied, skipping upgrade: scikit-learn in c:\\users\\test\\anaconda3\\envs\\pythondata\\lib\\site-packages (from sklearn) (0.22.2.post1)\n",
      "Requirement already satisfied, skipping upgrade: scipy>=0.17.0 in c:\\users\\test\\anaconda3\\envs\\pythondata\\lib\\site-packages (from scikit-learn->sklearn) (1.4.1)\n",
      "Requirement already satisfied, skipping upgrade: joblib>=0.11 in c:\\users\\test\\anaconda3\\envs\\pythondata\\lib\\site-packages (from scikit-learn->sklearn) (0.14.1)\n",
      "Requirement already satisfied, skipping upgrade: numpy>=1.11.0 in c:\\users\\test\\anaconda3\\envs\\pythondata\\lib\\site-packages (from scikit-learn->sklearn) (1.18.4)\n"
     ]
    }
   ],
   "source": [
    "# Update sklearn to prevent version mismatches\n",
    "!pip install sklearn --upgrade"
   ]
  },
  {
   "cell_type": "code",
   "execution_count": 2,
   "metadata": {},
   "outputs": [
    {
     "name": "stdout",
     "output_type": "stream",
     "text": [
      "Requirement already satisfied: joblib in c:\\users\\test\\anaconda3\\envs\\pythondata\\lib\\site-packages (0.14.1)\n"
     ]
    }
   ],
   "source": [
    "# install joblib. This will be used to save your model. \n",
    "# Restart your kernel after installing \n",
    "!pip install joblib"
   ]
  },
  {
   "cell_type": "code",
   "execution_count": 3,
   "metadata": {},
   "outputs": [],
   "source": [
    "import pandas as pd"
   ]
  },
  {
   "cell_type": "markdown",
   "metadata": {},
   "source": [
    " ## Read the CSV and Perform Basic Data Cleaning    "
   ]
  },
  {
   "cell_type": "code",
   "execution_count": 4,
   "metadata": {},
   "outputs": [
    {
     "data": {
      "text/html": [
       "<div>\n",
       "<style scoped>\n",
       "    .dataframe tbody tr th:only-of-type {\n",
       "        vertical-align: middle;\n",
       "    }\n",
       "\n",
       "    .dataframe tbody tr th {\n",
       "        vertical-align: top;\n",
       "    }\n",
       "\n",
       "    .dataframe thead th {\n",
       "        text-align: right;\n",
       "    }\n",
       "</style>\n",
       "<table border=\"1\" class=\"dataframe\">\n",
       "  <thead>\n",
       "    <tr style=\"text-align: right;\">\n",
       "      <th></th>\n",
       "      <th>koi_disposition</th>\n",
       "      <th>koi_fpflag_nt</th>\n",
       "      <th>koi_fpflag_ss</th>\n",
       "      <th>koi_fpflag_co</th>\n",
       "      <th>koi_fpflag_ec</th>\n",
       "      <th>koi_period</th>\n",
       "      <th>koi_period_err1</th>\n",
       "      <th>koi_period_err2</th>\n",
       "      <th>koi_time0bk</th>\n",
       "      <th>koi_time0bk_err1</th>\n",
       "      <th>...</th>\n",
       "      <th>koi_steff_err2</th>\n",
       "      <th>koi_slogg</th>\n",
       "      <th>koi_slogg_err1</th>\n",
       "      <th>koi_slogg_err2</th>\n",
       "      <th>koi_srad</th>\n",
       "      <th>koi_srad_err1</th>\n",
       "      <th>koi_srad_err2</th>\n",
       "      <th>ra</th>\n",
       "      <th>dec</th>\n",
       "      <th>koi_kepmag</th>\n",
       "    </tr>\n",
       "  </thead>\n",
       "  <tbody>\n",
       "    <tr>\n",
       "      <td>0</td>\n",
       "      <td>CONFIRMED</td>\n",
       "      <td>0</td>\n",
       "      <td>0</td>\n",
       "      <td>0</td>\n",
       "      <td>0</td>\n",
       "      <td>54.418383</td>\n",
       "      <td>2.479000e-04</td>\n",
       "      <td>-2.479000e-04</td>\n",
       "      <td>162.513840</td>\n",
       "      <td>0.003520</td>\n",
       "      <td>...</td>\n",
       "      <td>-81</td>\n",
       "      <td>4.467</td>\n",
       "      <td>0.064</td>\n",
       "      <td>-0.096</td>\n",
       "      <td>0.927</td>\n",
       "      <td>0.105</td>\n",
       "      <td>-0.061</td>\n",
       "      <td>291.93423</td>\n",
       "      <td>48.141651</td>\n",
       "      <td>15.347</td>\n",
       "    </tr>\n",
       "    <tr>\n",
       "      <td>1</td>\n",
       "      <td>FALSE POSITIVE</td>\n",
       "      <td>0</td>\n",
       "      <td>1</td>\n",
       "      <td>0</td>\n",
       "      <td>0</td>\n",
       "      <td>19.899140</td>\n",
       "      <td>1.490000e-05</td>\n",
       "      <td>-1.490000e-05</td>\n",
       "      <td>175.850252</td>\n",
       "      <td>0.000581</td>\n",
       "      <td>...</td>\n",
       "      <td>-176</td>\n",
       "      <td>4.544</td>\n",
       "      <td>0.044</td>\n",
       "      <td>-0.176</td>\n",
       "      <td>0.868</td>\n",
       "      <td>0.233</td>\n",
       "      <td>-0.078</td>\n",
       "      <td>297.00482</td>\n",
       "      <td>48.134129</td>\n",
       "      <td>15.436</td>\n",
       "    </tr>\n",
       "    <tr>\n",
       "      <td>2</td>\n",
       "      <td>FALSE POSITIVE</td>\n",
       "      <td>0</td>\n",
       "      <td>1</td>\n",
       "      <td>0</td>\n",
       "      <td>0</td>\n",
       "      <td>1.736952</td>\n",
       "      <td>2.630000e-07</td>\n",
       "      <td>-2.630000e-07</td>\n",
       "      <td>170.307565</td>\n",
       "      <td>0.000115</td>\n",
       "      <td>...</td>\n",
       "      <td>-174</td>\n",
       "      <td>4.564</td>\n",
       "      <td>0.053</td>\n",
       "      <td>-0.168</td>\n",
       "      <td>0.791</td>\n",
       "      <td>0.201</td>\n",
       "      <td>-0.067</td>\n",
       "      <td>285.53461</td>\n",
       "      <td>48.285210</td>\n",
       "      <td>15.597</td>\n",
       "    </tr>\n",
       "    <tr>\n",
       "      <td>3</td>\n",
       "      <td>CONFIRMED</td>\n",
       "      <td>0</td>\n",
       "      <td>0</td>\n",
       "      <td>0</td>\n",
       "      <td>0</td>\n",
       "      <td>2.525592</td>\n",
       "      <td>3.760000e-06</td>\n",
       "      <td>-3.760000e-06</td>\n",
       "      <td>171.595550</td>\n",
       "      <td>0.001130</td>\n",
       "      <td>...</td>\n",
       "      <td>-211</td>\n",
       "      <td>4.438</td>\n",
       "      <td>0.070</td>\n",
       "      <td>-0.210</td>\n",
       "      <td>1.046</td>\n",
       "      <td>0.334</td>\n",
       "      <td>-0.133</td>\n",
       "      <td>288.75488</td>\n",
       "      <td>48.226200</td>\n",
       "      <td>15.509</td>\n",
       "    </tr>\n",
       "    <tr>\n",
       "      <td>4</td>\n",
       "      <td>CONFIRMED</td>\n",
       "      <td>0</td>\n",
       "      <td>0</td>\n",
       "      <td>0</td>\n",
       "      <td>0</td>\n",
       "      <td>4.134435</td>\n",
       "      <td>1.050000e-05</td>\n",
       "      <td>-1.050000e-05</td>\n",
       "      <td>172.979370</td>\n",
       "      <td>0.001900</td>\n",
       "      <td>...</td>\n",
       "      <td>-232</td>\n",
       "      <td>4.486</td>\n",
       "      <td>0.054</td>\n",
       "      <td>-0.229</td>\n",
       "      <td>0.972</td>\n",
       "      <td>0.315</td>\n",
       "      <td>-0.105</td>\n",
       "      <td>296.28613</td>\n",
       "      <td>48.224670</td>\n",
       "      <td>15.714</td>\n",
       "    </tr>\n",
       "  </tbody>\n",
       "</table>\n",
       "<p>5 rows × 41 columns</p>\n",
       "</div>"
      ],
      "text/plain": [
       "  koi_disposition  koi_fpflag_nt  koi_fpflag_ss  koi_fpflag_co  koi_fpflag_ec  \\\n",
       "0       CONFIRMED              0              0              0              0   \n",
       "1  FALSE POSITIVE              0              1              0              0   \n",
       "2  FALSE POSITIVE              0              1              0              0   \n",
       "3       CONFIRMED              0              0              0              0   \n",
       "4       CONFIRMED              0              0              0              0   \n",
       "\n",
       "   koi_period  koi_period_err1  koi_period_err2  koi_time0bk  \\\n",
       "0   54.418383     2.479000e-04    -2.479000e-04   162.513840   \n",
       "1   19.899140     1.490000e-05    -1.490000e-05   175.850252   \n",
       "2    1.736952     2.630000e-07    -2.630000e-07   170.307565   \n",
       "3    2.525592     3.760000e-06    -3.760000e-06   171.595550   \n",
       "4    4.134435     1.050000e-05    -1.050000e-05   172.979370   \n",
       "\n",
       "   koi_time0bk_err1  ...  koi_steff_err2  koi_slogg  koi_slogg_err1  \\\n",
       "0          0.003520  ...             -81      4.467           0.064   \n",
       "1          0.000581  ...            -176      4.544           0.044   \n",
       "2          0.000115  ...            -174      4.564           0.053   \n",
       "3          0.001130  ...            -211      4.438           0.070   \n",
       "4          0.001900  ...            -232      4.486           0.054   \n",
       "\n",
       "   koi_slogg_err2  koi_srad  koi_srad_err1  koi_srad_err2         ra  \\\n",
       "0          -0.096     0.927          0.105         -0.061  291.93423   \n",
       "1          -0.176     0.868          0.233         -0.078  297.00482   \n",
       "2          -0.168     0.791          0.201         -0.067  285.53461   \n",
       "3          -0.210     1.046          0.334         -0.133  288.75488   \n",
       "4          -0.229     0.972          0.315         -0.105  296.28613   \n",
       "\n",
       "         dec  koi_kepmag  \n",
       "0  48.141651      15.347  \n",
       "1  48.134129      15.436  \n",
       "2  48.285210      15.597  \n",
       "3  48.226200      15.509  \n",
       "4  48.224670      15.714  \n",
       "\n",
       "[5 rows x 41 columns]"
      ]
     },
     "execution_count": 4,
     "metadata": {},
     "output_type": "execute_result"
    }
   ],
   "source": [
    "df = pd.read_csv(\"exoplanet_data.csv\")\n",
    "# Drop the null columns where all values are null\n",
    "df = df.dropna(axis='columns', how='all')\n",
    "# Drop the null rows\n",
    "df = df.dropna()\n",
    "df.head()"
   ]
  },
  {
   "cell_type": "markdown",
   "metadata": {},
   "source": [
    "## Select your features (columns)     "
   ]
  },
  {
   "cell_type": "code",
   "execution_count": 5,
   "metadata": {},
   "outputs": [],
   "source": [
    "# Set features. This will also be used as your x values.\n",
    "X = df.drop(columns='koi_disposition')\n",
    "y = df['koi_disposition']"
   ]
  },
  {
   "cell_type": "markdown",
   "metadata": {},
   "source": [
    "## Create a Train Test Split     \n",
    "*Use koi_disposition for the y values*"
   ]
  },
  {
   "cell_type": "code",
   "execution_count": 6,
   "metadata": {},
   "outputs": [],
   "source": [
    "from sklearn.model_selection import train_test_split"
   ]
  },
  {
   "cell_type": "code",
   "execution_count": 7,
   "metadata": {},
   "outputs": [],
   "source": [
    "X_train, X_test, y_train, y_test = train_test_split(X, y, random_state = 1, stratify = y)"
   ]
  },
  {
   "cell_type": "markdown",
   "metadata": {},
   "source": [
    "## Pre-processing     \n",
    "*Scale the data using the MinMaxScaler and perform some feature selection*"
   ]
  },
  {
   "cell_type": "code",
   "execution_count": 8,
   "metadata": {},
   "outputs": [],
   "source": [
    "# Scale your data\n",
    "from sklearn.preprocessing import MinMaxScaler\n",
    "\n",
    "X_scaler = MinMaxScaler().fit(X_train)\n",
    "X_train_scaled = X_scaler.transform(X_train)\n",
    "X_test_scaled = X_scaler.transform(X_test)"
   ]
  },
  {
   "cell_type": "markdown",
   "metadata": {},
   "source": [
    "## Train the Model     \n",
    "---------------"
   ]
  },
  {
   "cell_type": "code",
   "execution_count": 9,
   "metadata": {},
   "outputs": [
    {
     "data": {
      "text/plain": [
       "DecisionTreeClassifier(class_weight=None, criterion='gini', max_depth=None,\n",
       "                       max_features=None, max_leaf_nodes=None,\n",
       "                       min_impurity_decrease=0.0, min_impurity_split=None,\n",
       "                       min_samples_leaf=1, min_samples_split=2,\n",
       "                       min_weight_fraction_leaf=0.0, presort=False,\n",
       "                       random_state=None, splitter='best')"
      ]
     },
     "execution_count": 9,
     "metadata": {},
     "output_type": "execute_result"
    }
   ],
   "source": [
    "from sklearn import tree\n",
    "clf = tree.DecisionTreeClassifier()\n",
    "clf.fit(X_train_scaled, y_train)"
   ]
  },
  {
   "cell_type": "code",
   "execution_count": 10,
   "metadata": {},
   "outputs": [
    {
     "name": "stdout",
     "output_type": "stream",
     "text": [
      "Training Data Score: 1.0\n",
      "Testing Data Score: 0.8518306636155606\n"
     ]
    }
   ],
   "source": [
    "print(f\"Training Data Score: {clf.score(X_train_scaled, y_train)}\")\n",
    "print(f\"Testing Data Score: {clf.score(X_test_scaled, y_test)}\")"
   ]
  },
  {
   "cell_type": "markdown",
   "metadata": {},
   "source": [
    "## Hyperparameter Tuning     \n",
    "*Use GridSearchCV to tune the model's parameters*"
   ]
  },
  {
   "cell_type": "code",
   "execution_count": 69,
   "metadata": {},
   "outputs": [],
   "source": [
    "# Create the GridSearchCV model\n",
    "from sklearn.model_selection import GridSearchCV\n",
    "\n",
    "param_grid = {'criterion': ['gini', 'entropy'], 'splitter': ['best', 'random'],\n",
    "             'max_depth': [5, 7, 8], 'min_weight_fraction_leaf': [.00001],\n",
    "             'min_samples_split': [0.15, .185]}\n",
    "\n",
    "grid = GridSearchCV(clf, param_grid, verbose=3)"
   ]
  },
  {
   "cell_type": "code",
   "execution_count": 72,
   "metadata": {},
   "outputs": [
    {
     "name": "stderr",
     "output_type": "stream",
     "text": [
      "C:\\Users\\test\\Anaconda3\\lib\\site-packages\\sklearn\\model_selection\\_split.py:1978: FutureWarning: The default value of cv will change from 3 to 5 in version 0.22. Specify it explicitly to silence this warning.\n",
      "  warnings.warn(CV_WARNING, FutureWarning)\n",
      "[Parallel(n_jobs=1)]: Using backend SequentialBackend with 1 concurrent workers.\n",
      "[Parallel(n_jobs=1)]: Done   1 out of   1 | elapsed:    0.0s remaining:    0.0s\n",
      "[Parallel(n_jobs=1)]: Done   2 out of   2 | elapsed:    0.0s remaining:    0.0s\n"
     ]
    },
    {
     "name": "stdout",
     "output_type": "stream",
     "text": [
      "Fitting 3 folds for each of 48 candidates, totalling 144 fits\n",
      "[CV] criterion=gini, max_depth=5, min_samples_split=0.15, min_weight_fraction_leaf=1e-05, splitter=best \n",
      "[CV]  criterion=gini, max_depth=5, min_samples_split=0.15, min_weight_fraction_leaf=1e-05, splitter=best, score=0.879, total=   0.1s\n",
      "[CV] criterion=gini, max_depth=5, min_samples_split=0.15, min_weight_fraction_leaf=1e-05, splitter=best \n",
      "[CV]  criterion=gini, max_depth=5, min_samples_split=0.15, min_weight_fraction_leaf=1e-05, splitter=best, score=0.875, total=   0.1s\n",
      "[CV] criterion=gini, max_depth=5, min_samples_split=0.15, min_weight_fraction_leaf=1e-05, splitter=best \n",
      "[CV]  criterion=gini, max_depth=5, min_samples_split=0.15, min_weight_fraction_leaf=1e-05, splitter=best, score=0.879, total=   0.0s\n",
      "[CV] criterion=gini, max_depth=5, min_samples_split=0.15, min_weight_fraction_leaf=1e-05, splitter=random \n",
      "[CV]  criterion=gini, max_depth=5, min_samples_split=0.15, min_weight_fraction_leaf=1e-05, splitter=random, score=0.796, total=   0.0s\n",
      "[CV] criterion=gini, max_depth=5, min_samples_split=0.15, min_weight_fraction_leaf=1e-05, splitter=random \n",
      "[CV]  criterion=gini, max_depth=5, min_samples_split=0.15, min_weight_fraction_leaf=1e-05, splitter=random, score=0.781, total=   0.0s\n",
      "[CV] criterion=gini, max_depth=5, min_samples_split=0.15, min_weight_fraction_leaf=1e-05, splitter=random \n",
      "[CV]  criterion=gini, max_depth=5, min_samples_split=0.15, min_weight_fraction_leaf=1e-05, splitter=random, score=0.782, total=   0.0s\n",
      "[CV] criterion=gini, max_depth=5, min_samples_split=0.185, min_weight_fraction_leaf=1e-05, splitter=best \n",
      "[CV]  criterion=gini, max_depth=5, min_samples_split=0.185, min_weight_fraction_leaf=1e-05, splitter=best, score=0.879, total=   0.1s\n",
      "[CV] criterion=gini, max_depth=5, min_samples_split=0.185, min_weight_fraction_leaf=1e-05, splitter=best \n",
      "[CV]  criterion=gini, max_depth=5, min_samples_split=0.185, min_weight_fraction_leaf=1e-05, splitter=best, score=0.875, total=   0.1s\n",
      "[CV] criterion=gini, max_depth=5, min_samples_split=0.185, min_weight_fraction_leaf=1e-05, splitter=best \n",
      "[CV]  criterion=gini, max_depth=5, min_samples_split=0.185, min_weight_fraction_leaf=1e-05, splitter=best, score=0.879, total=   0.1s\n",
      "[CV] criterion=gini, max_depth=5, min_samples_split=0.185, min_weight_fraction_leaf=1e-05, splitter=random \n",
      "[CV]  criterion=gini, max_depth=5, min_samples_split=0.185, min_weight_fraction_leaf=1e-05, splitter=random, score=0.791, total=   0.0s\n",
      "[CV] criterion=gini, max_depth=5, min_samples_split=0.185, min_weight_fraction_leaf=1e-05, splitter=random \n",
      "[CV]  criterion=gini, max_depth=5, min_samples_split=0.185, min_weight_fraction_leaf=1e-05, splitter=random, score=0.764, total=   0.0s\n",
      "[CV] criterion=gini, max_depth=5, min_samples_split=0.185, min_weight_fraction_leaf=1e-05, splitter=random \n",
      "[CV]  criterion=gini, max_depth=5, min_samples_split=0.185, min_weight_fraction_leaf=1e-05, splitter=random, score=0.763, total=   0.0s\n",
      "[CV] criterion=gini, max_depth=5, min_samples_split=0.18, min_weight_fraction_leaf=1e-05, splitter=best \n",
      "[CV]  criterion=gini, max_depth=5, min_samples_split=0.18, min_weight_fraction_leaf=1e-05, splitter=best, score=0.879, total=   0.0s\n",
      "[CV] criterion=gini, max_depth=5, min_samples_split=0.18, min_weight_fraction_leaf=1e-05, splitter=best \n",
      "[CV]  criterion=gini, max_depth=5, min_samples_split=0.18, min_weight_fraction_leaf=1e-05, splitter=best, score=0.875, total=   0.0s\n",
      "[CV] criterion=gini, max_depth=5, min_samples_split=0.18, min_weight_fraction_leaf=1e-05, splitter=best \n",
      "[CV]  criterion=gini, max_depth=5, min_samples_split=0.18, min_weight_fraction_leaf=1e-05, splitter=best, score=0.879, total=   0.0s\n",
      "[CV] criterion=gini, max_depth=5, min_samples_split=0.18, min_weight_fraction_leaf=1e-05, splitter=random \n",
      "[CV]  criterion=gini, max_depth=5, min_samples_split=0.18, min_weight_fraction_leaf=1e-05, splitter=random, score=0.826, total=   0.0s\n",
      "[CV] criterion=gini, max_depth=5, min_samples_split=0.18, min_weight_fraction_leaf=1e-05, splitter=random \n",
      "[CV]  criterion=gini, max_depth=5, min_samples_split=0.18, min_weight_fraction_leaf=1e-05, splitter=random, score=0.759, total=   0.0s\n",
      "[CV] criterion=gini, max_depth=5, min_samples_split=0.18, min_weight_fraction_leaf=1e-05, splitter=random \n",
      "[CV]  criterion=gini, max_depth=5, min_samples_split=0.18, min_weight_fraction_leaf=1e-05, splitter=random, score=0.810, total=   0.0s\n",
      "[CV] criterion=gini, max_depth=5, min_samples_split=0.19, min_weight_fraction_leaf=1e-05, splitter=best \n",
      "[CV]  criterion=gini, max_depth=5, min_samples_split=0.19, min_weight_fraction_leaf=1e-05, splitter=best, score=0.872, total=   0.1s\n",
      "[CV] criterion=gini, max_depth=5, min_samples_split=0.19, min_weight_fraction_leaf=1e-05, splitter=best \n",
      "[CV]  criterion=gini, max_depth=5, min_samples_split=0.19, min_weight_fraction_leaf=1e-05, splitter=best, score=0.868, total=   0.1s\n",
      "[CV] criterion=gini, max_depth=5, min_samples_split=0.19, min_weight_fraction_leaf=1e-05, splitter=best \n",
      "[CV]  criterion=gini, max_depth=5, min_samples_split=0.19, min_weight_fraction_leaf=1e-05, splitter=best, score=0.879, total=   0.1s\n",
      "[CV] criterion=gini, max_depth=5, min_samples_split=0.19, min_weight_fraction_leaf=1e-05, splitter=random \n",
      "[CV]  criterion=gini, max_depth=5, min_samples_split=0.19, min_weight_fraction_leaf=1e-05, splitter=random, score=0.820, total=   0.0s\n",
      "[CV] criterion=gini, max_depth=5, min_samples_split=0.19, min_weight_fraction_leaf=1e-05, splitter=random \n",
      "[CV]  criterion=gini, max_depth=5, min_samples_split=0.19, min_weight_fraction_leaf=1e-05, splitter=random, score=0.812, total=   0.0s\n",
      "[CV] criterion=gini, max_depth=5, min_samples_split=0.19, min_weight_fraction_leaf=1e-05, splitter=random \n",
      "[CV]  criterion=gini, max_depth=5, min_samples_split=0.19, min_weight_fraction_leaf=1e-05, splitter=random, score=0.766, total=   0.0s\n",
      "[CV] criterion=gini, max_depth=7, min_samples_split=0.15, min_weight_fraction_leaf=1e-05, splitter=best \n",
      "[CV]  criterion=gini, max_depth=7, min_samples_split=0.15, min_weight_fraction_leaf=1e-05, splitter=best, score=0.884, total=   0.1s\n",
      "[CV] criterion=gini, max_depth=7, min_samples_split=0.15, min_weight_fraction_leaf=1e-05, splitter=best \n",
      "[CV]  criterion=gini, max_depth=7, min_samples_split=0.15, min_weight_fraction_leaf=1e-05, splitter=best, score=0.885, total=   0.1s\n",
      "[CV] criterion=gini, max_depth=7, min_samples_split=0.15, min_weight_fraction_leaf=1e-05, splitter=best \n",
      "[CV]  criterion=gini, max_depth=7, min_samples_split=0.15, min_weight_fraction_leaf=1e-05, splitter=best, score=0.880, total=   0.1s\n",
      "[CV] criterion=gini, max_depth=7, min_samples_split=0.15, min_weight_fraction_leaf=1e-05, splitter=random \n",
      "[CV]  criterion=gini, max_depth=7, min_samples_split=0.15, min_weight_fraction_leaf=1e-05, splitter=random, score=0.830, total=   0.0s\n",
      "[CV] criterion=gini, max_depth=7, min_samples_split=0.15, min_weight_fraction_leaf=1e-05, splitter=random \n",
      "[CV]  criterion=gini, max_depth=7, min_samples_split=0.15, min_weight_fraction_leaf=1e-05, splitter=random, score=0.828, total=   0.0s\n",
      "[CV] criterion=gini, max_depth=7, min_samples_split=0.15, min_weight_fraction_leaf=1e-05, splitter=random \n",
      "[CV]  criterion=gini, max_depth=7, min_samples_split=0.15, min_weight_fraction_leaf=1e-05, splitter=random, score=0.861, total=   0.0s\n",
      "[CV] criterion=gini, max_depth=7, min_samples_split=0.185, min_weight_fraction_leaf=1e-05, splitter=best \n",
      "[CV]  criterion=gini, max_depth=7, min_samples_split=0.185, min_weight_fraction_leaf=1e-05, splitter=best, score=0.884, total=   0.1s\n",
      "[CV] criterion=gini, max_depth=7, min_samples_split=0.185, min_weight_fraction_leaf=1e-05, splitter=best \n",
      "[CV]  criterion=gini, max_depth=7, min_samples_split=0.185, min_weight_fraction_leaf=1e-05, splitter=best, score=0.885, total=   0.1s\n",
      "[CV] criterion=gini, max_depth=7, min_samples_split=0.185, min_weight_fraction_leaf=1e-05, splitter=best \n",
      "[CV]  criterion=gini, max_depth=7, min_samples_split=0.185, min_weight_fraction_leaf=1e-05, splitter=best, score=0.880, total=   0.1s\n",
      "[CV] criterion=gini, max_depth=7, min_samples_split=0.185, min_weight_fraction_leaf=1e-05, splitter=random \n",
      "[CV]  criterion=gini, max_depth=7, min_samples_split=0.185, min_weight_fraction_leaf=1e-05, splitter=random, score=0.816, total=   0.0s\n",
      "[CV] criterion=gini, max_depth=7, min_samples_split=0.185, min_weight_fraction_leaf=1e-05, splitter=random \n",
      "[CV]  criterion=gini, max_depth=7, min_samples_split=0.185, min_weight_fraction_leaf=1e-05, splitter=random, score=0.803, total=   0.0s\n",
      "[CV] criterion=gini, max_depth=7, min_samples_split=0.185, min_weight_fraction_leaf=1e-05, splitter=random \n",
      "[CV]  criterion=gini, max_depth=7, min_samples_split=0.185, min_weight_fraction_leaf=1e-05, splitter=random, score=0.832, total=   0.0s\n",
      "[CV] criterion=gini, max_depth=7, min_samples_split=0.18, min_weight_fraction_leaf=1e-05, splitter=best \n"
     ]
    },
    {
     "name": "stdout",
     "output_type": "stream",
     "text": [
      "[CV]  criterion=gini, max_depth=7, min_samples_split=0.18, min_weight_fraction_leaf=1e-05, splitter=best, score=0.884, total=   0.1s\n",
      "[CV] criterion=gini, max_depth=7, min_samples_split=0.18, min_weight_fraction_leaf=1e-05, splitter=best \n",
      "[CV]  criterion=gini, max_depth=7, min_samples_split=0.18, min_weight_fraction_leaf=1e-05, splitter=best, score=0.886, total=   0.1s\n",
      "[CV] criterion=gini, max_depth=7, min_samples_split=0.18, min_weight_fraction_leaf=1e-05, splitter=best \n",
      "[CV]  criterion=gini, max_depth=7, min_samples_split=0.18, min_weight_fraction_leaf=1e-05, splitter=best, score=0.880, total=   0.1s\n",
      "[CV] criterion=gini, max_depth=7, min_samples_split=0.18, min_weight_fraction_leaf=1e-05, splitter=random \n",
      "[CV]  criterion=gini, max_depth=7, min_samples_split=0.18, min_weight_fraction_leaf=1e-05, splitter=random, score=0.857, total=   0.0s\n",
      "[CV] criterion=gini, max_depth=7, min_samples_split=0.18, min_weight_fraction_leaf=1e-05, splitter=random \n",
      "[CV]  criterion=gini, max_depth=7, min_samples_split=0.18, min_weight_fraction_leaf=1e-05, splitter=random, score=0.815, total=   0.0s\n",
      "[CV] criterion=gini, max_depth=7, min_samples_split=0.18, min_weight_fraction_leaf=1e-05, splitter=random \n",
      "[CV]  criterion=gini, max_depth=7, min_samples_split=0.18, min_weight_fraction_leaf=1e-05, splitter=random, score=0.872, total=   0.0s\n",
      "[CV] criterion=gini, max_depth=7, min_samples_split=0.19, min_weight_fraction_leaf=1e-05, splitter=best \n",
      "[CV]  criterion=gini, max_depth=7, min_samples_split=0.19, min_weight_fraction_leaf=1e-05, splitter=best, score=0.878, total=   0.1s\n",
      "[CV] criterion=gini, max_depth=7, min_samples_split=0.19, min_weight_fraction_leaf=1e-05, splitter=best \n",
      "[CV]  criterion=gini, max_depth=7, min_samples_split=0.19, min_weight_fraction_leaf=1e-05, splitter=best, score=0.879, total=   0.1s\n",
      "[CV] criterion=gini, max_depth=7, min_samples_split=0.19, min_weight_fraction_leaf=1e-05, splitter=best \n",
      "[CV]  criterion=gini, max_depth=7, min_samples_split=0.19, min_weight_fraction_leaf=1e-05, splitter=best, score=0.880, total=   0.1s\n",
      "[CV] criterion=gini, max_depth=7, min_samples_split=0.19, min_weight_fraction_leaf=1e-05, splitter=random \n",
      "[CV]  criterion=gini, max_depth=7, min_samples_split=0.19, min_weight_fraction_leaf=1e-05, splitter=random, score=0.783, total=   0.0s\n",
      "[CV] criterion=gini, max_depth=7, min_samples_split=0.19, min_weight_fraction_leaf=1e-05, splitter=random \n",
      "[CV]  criterion=gini, max_depth=7, min_samples_split=0.19, min_weight_fraction_leaf=1e-05, splitter=random, score=0.840, total=   0.0s\n",
      "[CV] criterion=gini, max_depth=7, min_samples_split=0.19, min_weight_fraction_leaf=1e-05, splitter=random \n",
      "[CV]  criterion=gini, max_depth=7, min_samples_split=0.19, min_weight_fraction_leaf=1e-05, splitter=random, score=0.856, total=   0.0s\n",
      "[CV] criterion=gini, max_depth=8, min_samples_split=0.15, min_weight_fraction_leaf=1e-05, splitter=best \n",
      "[CV]  criterion=gini, max_depth=8, min_samples_split=0.15, min_weight_fraction_leaf=1e-05, splitter=best, score=0.884, total=   0.1s\n",
      "[CV] criterion=gini, max_depth=8, min_samples_split=0.15, min_weight_fraction_leaf=1e-05, splitter=best \n",
      "[CV]  criterion=gini, max_depth=8, min_samples_split=0.15, min_weight_fraction_leaf=1e-05, splitter=best, score=0.889, total=   0.1s\n",
      "[CV] criterion=gini, max_depth=8, min_samples_split=0.15, min_weight_fraction_leaf=1e-05, splitter=best \n",
      "[CV]  criterion=gini, max_depth=8, min_samples_split=0.15, min_weight_fraction_leaf=1e-05, splitter=best, score=0.880, total=   0.1s\n",
      "[CV] criterion=gini, max_depth=8, min_samples_split=0.15, min_weight_fraction_leaf=1e-05, splitter=random \n",
      "[CV]  criterion=gini, max_depth=8, min_samples_split=0.15, min_weight_fraction_leaf=1e-05, splitter=random, score=0.867, total=   0.0s\n",
      "[CV] criterion=gini, max_depth=8, min_samples_split=0.15, min_weight_fraction_leaf=1e-05, splitter=random \n",
      "[CV]  criterion=gini, max_depth=8, min_samples_split=0.15, min_weight_fraction_leaf=1e-05, splitter=random, score=0.856, total=   0.0s\n",
      "[CV] criterion=gini, max_depth=8, min_samples_split=0.15, min_weight_fraction_leaf=1e-05, splitter=random \n",
      "[CV]  criterion=gini, max_depth=8, min_samples_split=0.15, min_weight_fraction_leaf=1e-05, splitter=random, score=0.819, total=   0.0s\n",
      "[CV] criterion=gini, max_depth=8, min_samples_split=0.185, min_weight_fraction_leaf=1e-05, splitter=best \n",
      "[CV]  criterion=gini, max_depth=8, min_samples_split=0.185, min_weight_fraction_leaf=1e-05, splitter=best, score=0.884, total=   0.1s\n",
      "[CV] criterion=gini, max_depth=8, min_samples_split=0.185, min_weight_fraction_leaf=1e-05, splitter=best \n",
      "[CV]  criterion=gini, max_depth=8, min_samples_split=0.185, min_weight_fraction_leaf=1e-05, splitter=best, score=0.889, total=   0.1s\n",
      "[CV] criterion=gini, max_depth=8, min_samples_split=0.185, min_weight_fraction_leaf=1e-05, splitter=best \n",
      "[CV]  criterion=gini, max_depth=8, min_samples_split=0.185, min_weight_fraction_leaf=1e-05, splitter=best, score=0.880, total=   0.1s\n",
      "[CV] criterion=gini, max_depth=8, min_samples_split=0.185, min_weight_fraction_leaf=1e-05, splitter=random \n",
      "[CV]  criterion=gini, max_depth=8, min_samples_split=0.185, min_weight_fraction_leaf=1e-05, splitter=random, score=0.858, total=   0.0s\n",
      "[CV] criterion=gini, max_depth=8, min_samples_split=0.185, min_weight_fraction_leaf=1e-05, splitter=random \n",
      "[CV]  criterion=gini, max_depth=8, min_samples_split=0.185, min_weight_fraction_leaf=1e-05, splitter=random, score=0.829, total=   0.0s\n",
      "[CV] criterion=gini, max_depth=8, min_samples_split=0.185, min_weight_fraction_leaf=1e-05, splitter=random \n",
      "[CV]  criterion=gini, max_depth=8, min_samples_split=0.185, min_weight_fraction_leaf=1e-05, splitter=random, score=0.844, total=   0.0s\n",
      "[CV] criterion=gini, max_depth=8, min_samples_split=0.18, min_weight_fraction_leaf=1e-05, splitter=best \n",
      "[CV]  criterion=gini, max_depth=8, min_samples_split=0.18, min_weight_fraction_leaf=1e-05, splitter=best, score=0.884, total=   0.1s\n",
      "[CV] criterion=gini, max_depth=8, min_samples_split=0.18, min_weight_fraction_leaf=1e-05, splitter=best \n",
      "[CV]  criterion=gini, max_depth=8, min_samples_split=0.18, min_weight_fraction_leaf=1e-05, splitter=best, score=0.889, total=   0.1s\n",
      "[CV] criterion=gini, max_depth=8, min_samples_split=0.18, min_weight_fraction_leaf=1e-05, splitter=best \n",
      "[CV]  criterion=gini, max_depth=8, min_samples_split=0.18, min_weight_fraction_leaf=1e-05, splitter=best, score=0.880, total=   0.1s\n",
      "[CV] criterion=gini, max_depth=8, min_samples_split=0.18, min_weight_fraction_leaf=1e-05, splitter=random \n",
      "[CV]  criterion=gini, max_depth=8, min_samples_split=0.18, min_weight_fraction_leaf=1e-05, splitter=random, score=0.854, total=   0.0s\n",
      "[CV] criterion=gini, max_depth=8, min_samples_split=0.18, min_weight_fraction_leaf=1e-05, splitter=random \n",
      "[CV]  criterion=gini, max_depth=8, min_samples_split=0.18, min_weight_fraction_leaf=1e-05, splitter=random, score=0.836, total=   0.0s\n",
      "[CV] criterion=gini, max_depth=8, min_samples_split=0.18, min_weight_fraction_leaf=1e-05, splitter=random \n",
      "[CV]  criterion=gini, max_depth=8, min_samples_split=0.18, min_weight_fraction_leaf=1e-05, splitter=random, score=0.835, total=   0.0s\n",
      "[CV] criterion=gini, max_depth=8, min_samples_split=0.19, min_weight_fraction_leaf=1e-05, splitter=best \n",
      "[CV]  criterion=gini, max_depth=8, min_samples_split=0.19, min_weight_fraction_leaf=1e-05, splitter=best, score=0.878, total=   0.1s\n",
      "[CV] criterion=gini, max_depth=8, min_samples_split=0.19, min_weight_fraction_leaf=1e-05, splitter=best \n",
      "[CV]  criterion=gini, max_depth=8, min_samples_split=0.19, min_weight_fraction_leaf=1e-05, splitter=best, score=0.882, total=   0.1s\n",
      "[CV] criterion=gini, max_depth=8, min_samples_split=0.19, min_weight_fraction_leaf=1e-05, splitter=best \n",
      "[CV]  criterion=gini, max_depth=8, min_samples_split=0.19, min_weight_fraction_leaf=1e-05, splitter=best, score=0.880, total=   0.1s\n",
      "[CV] criterion=gini, max_depth=8, min_samples_split=0.19, min_weight_fraction_leaf=1e-05, splitter=random \n",
      "[CV]  criterion=gini, max_depth=8, min_samples_split=0.19, min_weight_fraction_leaf=1e-05, splitter=random, score=0.855, total=   0.0s\n",
      "[CV] criterion=gini, max_depth=8, min_samples_split=0.19, min_weight_fraction_leaf=1e-05, splitter=random \n",
      "[CV]  criterion=gini, max_depth=8, min_samples_split=0.19, min_weight_fraction_leaf=1e-05, splitter=random, score=0.835, total=   0.0s\n",
      "[CV] criterion=gini, max_depth=8, min_samples_split=0.19, min_weight_fraction_leaf=1e-05, splitter=random \n",
      "[CV]  criterion=gini, max_depth=8, min_samples_split=0.19, min_weight_fraction_leaf=1e-05, splitter=random, score=0.844, total=   0.0s\n",
      "[CV] criterion=entropy, max_depth=5, min_samples_split=0.15, min_weight_fraction_leaf=1e-05, splitter=best \n",
      "[CV]  criterion=entropy, max_depth=5, min_samples_split=0.15, min_weight_fraction_leaf=1e-05, splitter=best, score=0.862, total=   0.1s\n",
      "[CV] criterion=entropy, max_depth=5, min_samples_split=0.15, min_weight_fraction_leaf=1e-05, splitter=best \n"
     ]
    },
    {
     "name": "stdout",
     "output_type": "stream",
     "text": [
      "[CV]  criterion=entropy, max_depth=5, min_samples_split=0.15, min_weight_fraction_leaf=1e-05, splitter=best, score=0.870, total=   0.2s\n",
      "[CV] criterion=entropy, max_depth=5, min_samples_split=0.15, min_weight_fraction_leaf=1e-05, splitter=best \n",
      "[CV]  criterion=entropy, max_depth=5, min_samples_split=0.15, min_weight_fraction_leaf=1e-05, splitter=best, score=0.879, total=   0.1s\n",
      "[CV] criterion=entropy, max_depth=5, min_samples_split=0.15, min_weight_fraction_leaf=1e-05, splitter=random \n",
      "[CV]  criterion=entropy, max_depth=5, min_samples_split=0.15, min_weight_fraction_leaf=1e-05, splitter=random, score=0.792, total=   0.0s\n",
      "[CV] criterion=entropy, max_depth=5, min_samples_split=0.15, min_weight_fraction_leaf=1e-05, splitter=random \n",
      "[CV]  criterion=entropy, max_depth=5, min_samples_split=0.15, min_weight_fraction_leaf=1e-05, splitter=random, score=0.767, total=   0.0s\n",
      "[CV] criterion=entropy, max_depth=5, min_samples_split=0.15, min_weight_fraction_leaf=1e-05, splitter=random \n",
      "[CV]  criterion=entropy, max_depth=5, min_samples_split=0.15, min_weight_fraction_leaf=1e-05, splitter=random, score=0.773, total=   0.0s\n",
      "[CV] criterion=entropy, max_depth=5, min_samples_split=0.185, min_weight_fraction_leaf=1e-05, splitter=best \n",
      "[CV]  criterion=entropy, max_depth=5, min_samples_split=0.185, min_weight_fraction_leaf=1e-05, splitter=best, score=0.856, total=   0.1s\n",
      "[CV] criterion=entropy, max_depth=5, min_samples_split=0.185, min_weight_fraction_leaf=1e-05, splitter=best \n",
      "[CV]  criterion=entropy, max_depth=5, min_samples_split=0.185, min_weight_fraction_leaf=1e-05, splitter=best, score=0.864, total=   0.1s\n",
      "[CV] criterion=entropy, max_depth=5, min_samples_split=0.185, min_weight_fraction_leaf=1e-05, splitter=best \n",
      "[CV]  criterion=entropy, max_depth=5, min_samples_split=0.185, min_weight_fraction_leaf=1e-05, splitter=best, score=0.871, total=   0.1s\n",
      "[CV] criterion=entropy, max_depth=5, min_samples_split=0.185, min_weight_fraction_leaf=1e-05, splitter=random \n",
      "[CV]  criterion=entropy, max_depth=5, min_samples_split=0.185, min_weight_fraction_leaf=1e-05, splitter=random, score=0.820, total=   0.0s\n",
      "[CV] criterion=entropy, max_depth=5, min_samples_split=0.185, min_weight_fraction_leaf=1e-05, splitter=random \n",
      "[CV]  criterion=entropy, max_depth=5, min_samples_split=0.185, min_weight_fraction_leaf=1e-05, splitter=random, score=0.764, total=   0.0s\n",
      "[CV] criterion=entropy, max_depth=5, min_samples_split=0.185, min_weight_fraction_leaf=1e-05, splitter=random \n",
      "[CV]  criterion=entropy, max_depth=5, min_samples_split=0.185, min_weight_fraction_leaf=1e-05, splitter=random, score=0.781, total=   0.0s\n",
      "[CV] criterion=entropy, max_depth=5, min_samples_split=0.18, min_weight_fraction_leaf=1e-05, splitter=best \n",
      "[CV]  criterion=entropy, max_depth=5, min_samples_split=0.18, min_weight_fraction_leaf=1e-05, splitter=best, score=0.856, total=   0.1s\n",
      "[CV] criterion=entropy, max_depth=5, min_samples_split=0.18, min_weight_fraction_leaf=1e-05, splitter=best \n",
      "[CV]  criterion=entropy, max_depth=5, min_samples_split=0.18, min_weight_fraction_leaf=1e-05, splitter=best, score=0.864, total=   0.1s\n",
      "[CV] criterion=entropy, max_depth=5, min_samples_split=0.18, min_weight_fraction_leaf=1e-05, splitter=best \n",
      "[CV]  criterion=entropy, max_depth=5, min_samples_split=0.18, min_weight_fraction_leaf=1e-05, splitter=best, score=0.871, total=   0.1s\n",
      "[CV] criterion=entropy, max_depth=5, min_samples_split=0.18, min_weight_fraction_leaf=1e-05, splitter=random \n",
      "[CV]  criterion=entropy, max_depth=5, min_samples_split=0.18, min_weight_fraction_leaf=1e-05, splitter=random, score=0.780, total=   0.0s\n",
      "[CV] criterion=entropy, max_depth=5, min_samples_split=0.18, min_weight_fraction_leaf=1e-05, splitter=random \n",
      "[CV]  criterion=entropy, max_depth=5, min_samples_split=0.18, min_weight_fraction_leaf=1e-05, splitter=random, score=0.767, total=   0.0s\n",
      "[CV] criterion=entropy, max_depth=5, min_samples_split=0.18, min_weight_fraction_leaf=1e-05, splitter=random \n",
      "[CV]  criterion=entropy, max_depth=5, min_samples_split=0.18, min_weight_fraction_leaf=1e-05, splitter=random, score=0.778, total=   0.0s\n",
      "[CV] criterion=entropy, max_depth=5, min_samples_split=0.19, min_weight_fraction_leaf=1e-05, splitter=best \n",
      "[CV]  criterion=entropy, max_depth=5, min_samples_split=0.19, min_weight_fraction_leaf=1e-05, splitter=best, score=0.856, total=   0.1s\n",
      "[CV] criterion=entropy, max_depth=5, min_samples_split=0.19, min_weight_fraction_leaf=1e-05, splitter=best \n",
      "[CV]  criterion=entropy, max_depth=5, min_samples_split=0.19, min_weight_fraction_leaf=1e-05, splitter=best, score=0.864, total=   0.1s\n",
      "[CV] criterion=entropy, max_depth=5, min_samples_split=0.19, min_weight_fraction_leaf=1e-05, splitter=best \n",
      "[CV]  criterion=entropy, max_depth=5, min_samples_split=0.19, min_weight_fraction_leaf=1e-05, splitter=best, score=0.871, total=   0.1s\n",
      "[CV] criterion=entropy, max_depth=5, min_samples_split=0.19, min_weight_fraction_leaf=1e-05, splitter=random \n",
      "[CV]  criterion=entropy, max_depth=5, min_samples_split=0.19, min_weight_fraction_leaf=1e-05, splitter=random, score=0.817, total=   0.0s\n",
      "[CV] criterion=entropy, max_depth=5, min_samples_split=0.19, min_weight_fraction_leaf=1e-05, splitter=random \n",
      "[CV]  criterion=entropy, max_depth=5, min_samples_split=0.19, min_weight_fraction_leaf=1e-05, splitter=random, score=0.775, total=   0.0s\n",
      "[CV] criterion=entropy, max_depth=5, min_samples_split=0.19, min_weight_fraction_leaf=1e-05, splitter=random \n",
      "[CV]  criterion=entropy, max_depth=5, min_samples_split=0.19, min_weight_fraction_leaf=1e-05, splitter=random, score=0.772, total=   0.0s\n",
      "[CV] criterion=entropy, max_depth=7, min_samples_split=0.15, min_weight_fraction_leaf=1e-05, splitter=best \n",
      "[CV]  criterion=entropy, max_depth=7, min_samples_split=0.15, min_weight_fraction_leaf=1e-05, splitter=best, score=0.868, total=   0.1s\n",
      "[CV] criterion=entropy, max_depth=7, min_samples_split=0.15, min_weight_fraction_leaf=1e-05, splitter=best \n",
      "[CV]  criterion=entropy, max_depth=7, min_samples_split=0.15, min_weight_fraction_leaf=1e-05, splitter=best, score=0.879, total=   0.1s\n",
      "[CV] criterion=entropy, max_depth=7, min_samples_split=0.15, min_weight_fraction_leaf=1e-05, splitter=best \n",
      "[CV]  criterion=entropy, max_depth=7, min_samples_split=0.15, min_weight_fraction_leaf=1e-05, splitter=best, score=0.882, total=   0.1s\n",
      "[CV] criterion=entropy, max_depth=7, min_samples_split=0.15, min_weight_fraction_leaf=1e-05, splitter=random \n",
      "[CV]  criterion=entropy, max_depth=7, min_samples_split=0.15, min_weight_fraction_leaf=1e-05, splitter=random, score=0.833, total=   0.0s\n",
      "[CV] criterion=entropy, max_depth=7, min_samples_split=0.15, min_weight_fraction_leaf=1e-05, splitter=random \n",
      "[CV]  criterion=entropy, max_depth=7, min_samples_split=0.15, min_weight_fraction_leaf=1e-05, splitter=random, score=0.848, total=   0.0s\n",
      "[CV] criterion=entropy, max_depth=7, min_samples_split=0.15, min_weight_fraction_leaf=1e-05, splitter=random \n",
      "[CV]  criterion=entropy, max_depth=7, min_samples_split=0.15, min_weight_fraction_leaf=1e-05, splitter=random, score=0.833, total=   0.0s\n",
      "[CV] criterion=entropy, max_depth=7, min_samples_split=0.185, min_weight_fraction_leaf=1e-05, splitter=best \n",
      "[CV]  criterion=entropy, max_depth=7, min_samples_split=0.185, min_weight_fraction_leaf=1e-05, splitter=best, score=0.862, total=   0.1s\n",
      "[CV] criterion=entropy, max_depth=7, min_samples_split=0.185, min_weight_fraction_leaf=1e-05, splitter=best \n",
      "[CV]  criterion=entropy, max_depth=7, min_samples_split=0.185, min_weight_fraction_leaf=1e-05, splitter=best, score=0.874, total=   0.1s\n",
      "[CV] criterion=entropy, max_depth=7, min_samples_split=0.185, min_weight_fraction_leaf=1e-05, splitter=best \n",
      "[CV]  criterion=entropy, max_depth=7, min_samples_split=0.185, min_weight_fraction_leaf=1e-05, splitter=best, score=0.875, total=   0.1s\n",
      "[CV] criterion=entropy, max_depth=7, min_samples_split=0.185, min_weight_fraction_leaf=1e-05, splitter=random \n",
      "[CV]  criterion=entropy, max_depth=7, min_samples_split=0.185, min_weight_fraction_leaf=1e-05, splitter=random, score=0.850, total=   0.0s\n",
      "[CV] criterion=entropy, max_depth=7, min_samples_split=0.185, min_weight_fraction_leaf=1e-05, splitter=random \n",
      "[CV]  criterion=entropy, max_depth=7, min_samples_split=0.185, min_weight_fraction_leaf=1e-05, splitter=random, score=0.803, total=   0.0s\n",
      "[CV] criterion=entropy, max_depth=7, min_samples_split=0.185, min_weight_fraction_leaf=1e-05, splitter=random \n",
      "[CV]  criterion=entropy, max_depth=7, min_samples_split=0.185, min_weight_fraction_leaf=1e-05, splitter=random, score=0.841, total=   0.0s\n",
      "[CV] criterion=entropy, max_depth=7, min_samples_split=0.18, min_weight_fraction_leaf=1e-05, splitter=best \n",
      "[CV]  criterion=entropy, max_depth=7, min_samples_split=0.18, min_weight_fraction_leaf=1e-05, splitter=best, score=0.862, total=   0.1s\n",
      "[CV] criterion=entropy, max_depth=7, min_samples_split=0.18, min_weight_fraction_leaf=1e-05, splitter=best \n"
     ]
    },
    {
     "name": "stdout",
     "output_type": "stream",
     "text": [
      "[CV]  criterion=entropy, max_depth=7, min_samples_split=0.18, min_weight_fraction_leaf=1e-05, splitter=best, score=0.874, total=   0.1s\n",
      "[CV] criterion=entropy, max_depth=7, min_samples_split=0.18, min_weight_fraction_leaf=1e-05, splitter=best \n",
      "[CV]  criterion=entropy, max_depth=7, min_samples_split=0.18, min_weight_fraction_leaf=1e-05, splitter=best, score=0.875, total=   0.1s\n",
      "[CV] criterion=entropy, max_depth=7, min_samples_split=0.18, min_weight_fraction_leaf=1e-05, splitter=random \n",
      "[CV]  criterion=entropy, max_depth=7, min_samples_split=0.18, min_weight_fraction_leaf=1e-05, splitter=random, score=0.855, total=   0.0s\n",
      "[CV] criterion=entropy, max_depth=7, min_samples_split=0.18, min_weight_fraction_leaf=1e-05, splitter=random \n",
      "[CV]  criterion=entropy, max_depth=7, min_samples_split=0.18, min_weight_fraction_leaf=1e-05, splitter=random, score=0.846, total=   0.0s\n",
      "[CV] criterion=entropy, max_depth=7, min_samples_split=0.18, min_weight_fraction_leaf=1e-05, splitter=random \n",
      "[CV]  criterion=entropy, max_depth=7, min_samples_split=0.18, min_weight_fraction_leaf=1e-05, splitter=random, score=0.859, total=   0.0s\n",
      "[CV] criterion=entropy, max_depth=7, min_samples_split=0.19, min_weight_fraction_leaf=1e-05, splitter=best \n",
      "[CV]  criterion=entropy, max_depth=7, min_samples_split=0.19, min_weight_fraction_leaf=1e-05, splitter=best, score=0.862, total=   0.1s\n",
      "[CV] criterion=entropy, max_depth=7, min_samples_split=0.19, min_weight_fraction_leaf=1e-05, splitter=best \n",
      "[CV]  criterion=entropy, max_depth=7, min_samples_split=0.19, min_weight_fraction_leaf=1e-05, splitter=best, score=0.874, total=   0.1s\n",
      "[CV] criterion=entropy, max_depth=7, min_samples_split=0.19, min_weight_fraction_leaf=1e-05, splitter=best \n",
      "[CV]  criterion=entropy, max_depth=7, min_samples_split=0.19, min_weight_fraction_leaf=1e-05, splitter=best, score=0.875, total=   0.1s\n",
      "[CV] criterion=entropy, max_depth=7, min_samples_split=0.19, min_weight_fraction_leaf=1e-05, splitter=random \n",
      "[CV]  criterion=entropy, max_depth=7, min_samples_split=0.19, min_weight_fraction_leaf=1e-05, splitter=random, score=0.795, total=   0.0s\n",
      "[CV] criterion=entropy, max_depth=7, min_samples_split=0.19, min_weight_fraction_leaf=1e-05, splitter=random \n",
      "[CV]  criterion=entropy, max_depth=7, min_samples_split=0.19, min_weight_fraction_leaf=1e-05, splitter=random, score=0.808, total=   0.0s\n",
      "[CV] criterion=entropy, max_depth=7, min_samples_split=0.19, min_weight_fraction_leaf=1e-05, splitter=random \n",
      "[CV]  criterion=entropy, max_depth=7, min_samples_split=0.19, min_weight_fraction_leaf=1e-05, splitter=random, score=0.807, total=   0.0s\n",
      "[CV] criterion=entropy, max_depth=8, min_samples_split=0.15, min_weight_fraction_leaf=1e-05, splitter=best \n",
      "[CV]  criterion=entropy, max_depth=8, min_samples_split=0.15, min_weight_fraction_leaf=1e-05, splitter=best, score=0.868, total=   0.1s\n",
      "[CV] criterion=entropy, max_depth=8, min_samples_split=0.15, min_weight_fraction_leaf=1e-05, splitter=best \n",
      "[CV]  criterion=entropy, max_depth=8, min_samples_split=0.15, min_weight_fraction_leaf=1e-05, splitter=best, score=0.880, total=   0.1s\n",
      "[CV] criterion=entropy, max_depth=8, min_samples_split=0.15, min_weight_fraction_leaf=1e-05, splitter=best \n",
      "[CV]  criterion=entropy, max_depth=8, min_samples_split=0.15, min_weight_fraction_leaf=1e-05, splitter=best, score=0.882, total=   0.1s\n",
      "[CV] criterion=entropy, max_depth=8, min_samples_split=0.15, min_weight_fraction_leaf=1e-05, splitter=random \n",
      "[CV]  criterion=entropy, max_depth=8, min_samples_split=0.15, min_weight_fraction_leaf=1e-05, splitter=random, score=0.816, total=   0.0s\n",
      "[CV] criterion=entropy, max_depth=8, min_samples_split=0.15, min_weight_fraction_leaf=1e-05, splitter=random \n",
      "[CV]  criterion=entropy, max_depth=8, min_samples_split=0.15, min_weight_fraction_leaf=1e-05, splitter=random, score=0.863, total=   0.0s\n",
      "[CV] criterion=entropy, max_depth=8, min_samples_split=0.15, min_weight_fraction_leaf=1e-05, splitter=random \n",
      "[CV]  criterion=entropy, max_depth=8, min_samples_split=0.15, min_weight_fraction_leaf=1e-05, splitter=random, score=0.810, total=   0.0s\n",
      "[CV] criterion=entropy, max_depth=8, min_samples_split=0.185, min_weight_fraction_leaf=1e-05, splitter=best \n",
      "[CV]  criterion=entropy, max_depth=8, min_samples_split=0.185, min_weight_fraction_leaf=1e-05, splitter=best, score=0.862, total=   0.1s\n",
      "[CV] criterion=entropy, max_depth=8, min_samples_split=0.185, min_weight_fraction_leaf=1e-05, splitter=best \n",
      "[CV]  criterion=entropy, max_depth=8, min_samples_split=0.185, min_weight_fraction_leaf=1e-05, splitter=best, score=0.875, total=   0.1s\n",
      "[CV] criterion=entropy, max_depth=8, min_samples_split=0.185, min_weight_fraction_leaf=1e-05, splitter=best \n",
      "[CV]  criterion=entropy, max_depth=8, min_samples_split=0.185, min_weight_fraction_leaf=1e-05, splitter=best, score=0.875, total=   0.1s\n",
      "[CV] criterion=entropy, max_depth=8, min_samples_split=0.185, min_weight_fraction_leaf=1e-05, splitter=random \n",
      "[CV]  criterion=entropy, max_depth=8, min_samples_split=0.185, min_weight_fraction_leaf=1e-05, splitter=random, score=0.830, total=   0.0s\n",
      "[CV] criterion=entropy, max_depth=8, min_samples_split=0.185, min_weight_fraction_leaf=1e-05, splitter=random \n",
      "[CV]  criterion=entropy, max_depth=8, min_samples_split=0.185, min_weight_fraction_leaf=1e-05, splitter=random, score=0.830, total=   0.0s\n",
      "[CV] criterion=entropy, max_depth=8, min_samples_split=0.185, min_weight_fraction_leaf=1e-05, splitter=random \n",
      "[CV]  criterion=entropy, max_depth=8, min_samples_split=0.185, min_weight_fraction_leaf=1e-05, splitter=random, score=0.840, total=   0.0s\n",
      "[CV] criterion=entropy, max_depth=8, min_samples_split=0.18, min_weight_fraction_leaf=1e-05, splitter=best \n",
      "[CV]  criterion=entropy, max_depth=8, min_samples_split=0.18, min_weight_fraction_leaf=1e-05, splitter=best, score=0.862, total=   0.1s\n",
      "[CV] criterion=entropy, max_depth=8, min_samples_split=0.18, min_weight_fraction_leaf=1e-05, splitter=best \n",
      "[CV]  criterion=entropy, max_depth=8, min_samples_split=0.18, min_weight_fraction_leaf=1e-05, splitter=best, score=0.875, total=   0.1s\n",
      "[CV] criterion=entropy, max_depth=8, min_samples_split=0.18, min_weight_fraction_leaf=1e-05, splitter=best \n",
      "[CV]  criterion=entropy, max_depth=8, min_samples_split=0.18, min_weight_fraction_leaf=1e-05, splitter=best, score=0.875, total=   0.1s\n",
      "[CV] criterion=entropy, max_depth=8, min_samples_split=0.18, min_weight_fraction_leaf=1e-05, splitter=random \n",
      "[CV]  criterion=entropy, max_depth=8, min_samples_split=0.18, min_weight_fraction_leaf=1e-05, splitter=random, score=0.859, total=   0.0s\n",
      "[CV] criterion=entropy, max_depth=8, min_samples_split=0.18, min_weight_fraction_leaf=1e-05, splitter=random \n",
      "[CV]  criterion=entropy, max_depth=8, min_samples_split=0.18, min_weight_fraction_leaf=1e-05, splitter=random, score=0.849, total=   0.0s\n",
      "[CV] criterion=entropy, max_depth=8, min_samples_split=0.18, min_weight_fraction_leaf=1e-05, splitter=random \n",
      "[CV]  criterion=entropy, max_depth=8, min_samples_split=0.18, min_weight_fraction_leaf=1e-05, splitter=random, score=0.843, total=   0.0s\n",
      "[CV] criterion=entropy, max_depth=8, min_samples_split=0.19, min_weight_fraction_leaf=1e-05, splitter=best \n",
      "[CV]  criterion=entropy, max_depth=8, min_samples_split=0.19, min_weight_fraction_leaf=1e-05, splitter=best, score=0.862, total=   0.1s\n",
      "[CV] criterion=entropy, max_depth=8, min_samples_split=0.19, min_weight_fraction_leaf=1e-05, splitter=best \n",
      "[CV]  criterion=entropy, max_depth=8, min_samples_split=0.19, min_weight_fraction_leaf=1e-05, splitter=best, score=0.875, total=   0.1s\n",
      "[CV] criterion=entropy, max_depth=8, min_samples_split=0.19, min_weight_fraction_leaf=1e-05, splitter=best \n",
      "[CV]  criterion=entropy, max_depth=8, min_samples_split=0.19, min_weight_fraction_leaf=1e-05, splitter=best, score=0.875, total=   0.1s\n",
      "[CV] criterion=entropy, max_depth=8, min_samples_split=0.19, min_weight_fraction_leaf=1e-05, splitter=random \n",
      "[CV]  criterion=entropy, max_depth=8, min_samples_split=0.19, min_weight_fraction_leaf=1e-05, splitter=random, score=0.854, total=   0.0s\n",
      "[CV] criterion=entropy, max_depth=8, min_samples_split=0.19, min_weight_fraction_leaf=1e-05, splitter=random \n",
      "[CV]  criterion=entropy, max_depth=8, min_samples_split=0.19, min_weight_fraction_leaf=1e-05, splitter=random, score=0.847, total=   0.0s\n",
      "[CV] criterion=entropy, max_depth=8, min_samples_split=0.19, min_weight_fraction_leaf=1e-05, splitter=random \n",
      "[CV]  criterion=entropy, max_depth=8, min_samples_split=0.19, min_weight_fraction_leaf=1e-05, splitter=random, score=0.843, total=   0.0s\n"
     ]
    },
    {
     "name": "stderr",
     "output_type": "stream",
     "text": [
      "[Parallel(n_jobs=1)]: Done 144 out of 144 | elapsed:    6.3s finished\n"
     ]
    }
   ],
   "source": [
    "# Train the model with GridSearch\n",
    "gs = grid.fit(X_train_scaled,y_train)"
   ]
  },
  {
   "cell_type": "code",
   "execution_count": 71,
   "metadata": {},
   "outputs": [
    {
     "name": "stdout",
     "output_type": "stream",
     "text": [
      "{'criterion': 'gini', 'max_depth': 8, 'min_samples_split': 0.185, 'min_weight_fraction_leaf': 1e-05, 'splitter': 'best'}\n",
      "0.8846080488270074\n"
     ]
    }
   ],
   "source": [
    "print(grid.best_params_)\n",
    "print(grid.best_score_)"
   ]
  },
  {
   "cell_type": "code",
   "execution_count": 75,
   "metadata": {},
   "outputs": [
    {
     "name": "stdout",
     "output_type": "stream",
     "text": [
      "                precision    recall  f1-score   support\n",
      "\n",
      "     CANDIDATE       0.81      0.73      0.77       422\n",
      "     CONFIRMED       0.77      0.82      0.79       450\n",
      "FALSE POSITIVE       0.98      0.99      0.98       876\n",
      "\n",
      "      accuracy                           0.88      1748\n",
      "     macro avg       0.85      0.85      0.85      1748\n",
      "  weighted avg       0.88      0.88      0.88      1748\n",
      "\n"
     ]
    }
   ],
   "source": [
    "predictions = gs.predict(X_test_scaled)\n",
    "\n",
    "from sklearn.metrics import classification_report\n",
    "print(classification_report(y_test, predictions))"
   ]
  },
  {
   "cell_type": "markdown",
   "metadata": {},
   "source": [
    "## Save the Model     \n",
    "----------------"
   ]
  },
  {
   "cell_type": "code",
   "execution_count": 14,
   "metadata": {},
   "outputs": [],
   "source": [
    "# import joblib\n",
    "# filename = 'Model_Files/Trees.sav'\n",
    "# joblib.dump(grid, filename)"
   ]
  }
 ],
 "metadata": {
  "kernelspec": {
   "display_name": "Python 3",
   "language": "python",
   "name": "python3"
  },
  "language_info": {
   "codemirror_mode": {
    "name": "ipython",
    "version": 3
   },
   "file_extension": ".py",
   "mimetype": "text/x-python",
   "name": "python",
   "nbconvert_exporter": "python",
   "pygments_lexer": "ipython3",
   "version": "3.7.4"
  }
 },
 "nbformat": 4,
 "nbformat_minor": 4
}
